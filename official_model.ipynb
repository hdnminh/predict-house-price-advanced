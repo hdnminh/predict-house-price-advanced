{
 "cells": [
  {
   "attachments": {},
   "cell_type": "markdown",
   "metadata": {},
   "source": [
    "# **HOUSE PRICE PREDICTION**\n",
    "\n",
    "Sử dụng các mô hình đã học hoặc nâng cao để áp dụng vào bài toán dự đoán giá nhà"
   ]
  },
  {
   "cell_type": "code",
   "execution_count": 63,
   "metadata": {},
   "outputs": [],
   "source": [
    "import pandas as pd\n",
    "import matplotlib.pyplot as plt\n",
    "import seaborn as sns\n",
    "import numpy as np\n",
    "from scipy.stats import norm\n",
    "from sklearn.preprocessing import StandardScaler\n",
    "from scipy import stats\n",
    "\n",
    "from sklearn.datasets import make_regression\n",
    "import matplotlib.pyplot as plt\n",
    "\n",
    "from sklearn.model_selection import train_test_split\n",
    "import warnings\n",
    "warnings.filterwarnings('ignore')\n",
    "%matplotlib inline"
   ]
  },
  {
   "cell_type": "code",
   "execution_count": 64,
   "metadata": {},
   "outputs": [
    {
     "data": {
      "text/html": [
       "<div>\n",
       "<style scoped>\n",
       "    .dataframe tbody tr th:only-of-type {\n",
       "        vertical-align: middle;\n",
       "    }\n",
       "\n",
       "    .dataframe tbody tr th {\n",
       "        vertical-align: top;\n",
       "    }\n",
       "\n",
       "    .dataframe thead th {\n",
       "        text-align: right;\n",
       "    }\n",
       "</style>\n",
       "<table border=\"1\" class=\"dataframe\">\n",
       "  <thead>\n",
       "    <tr style=\"text-align: right;\">\n",
       "      <th></th>\n",
       "      <th>LotFrontage</th>\n",
       "      <th>LotArea</th>\n",
       "      <th>Street</th>\n",
       "      <th>Alley</th>\n",
       "      <th>LotShape</th>\n",
       "      <th>Utilities</th>\n",
       "      <th>LandSlope</th>\n",
       "      <th>OverallQual</th>\n",
       "      <th>OverallCond</th>\n",
       "      <th>YearBuilt</th>\n",
       "      <th>...</th>\n",
       "      <th>SaleType_ConLw</th>\n",
       "      <th>SaleType_New</th>\n",
       "      <th>SaleType_Oth</th>\n",
       "      <th>SaleType_WD</th>\n",
       "      <th>SaleCondition_AdjLand</th>\n",
       "      <th>SaleCondition_Alloca</th>\n",
       "      <th>SaleCondition_Family</th>\n",
       "      <th>SaleCondition_Normal</th>\n",
       "      <th>SaleCondition_Partial</th>\n",
       "      <th>SalePrice</th>\n",
       "    </tr>\n",
       "    <tr>\n",
       "      <th>Id</th>\n",
       "      <th></th>\n",
       "      <th></th>\n",
       "      <th></th>\n",
       "      <th></th>\n",
       "      <th></th>\n",
       "      <th></th>\n",
       "      <th></th>\n",
       "      <th></th>\n",
       "      <th></th>\n",
       "      <th></th>\n",
       "      <th></th>\n",
       "      <th></th>\n",
       "      <th></th>\n",
       "      <th></th>\n",
       "      <th></th>\n",
       "      <th></th>\n",
       "      <th></th>\n",
       "      <th></th>\n",
       "      <th></th>\n",
       "      <th></th>\n",
       "      <th></th>\n",
       "    </tr>\n",
       "  </thead>\n",
       "  <tbody>\n",
       "    <tr>\n",
       "      <th>1</th>\n",
       "      <td>-0.244415</td>\n",
       "      <td>-0.257308</td>\n",
       "      <td>0.0</td>\n",
       "      <td>0.0</td>\n",
       "      <td>0.0</td>\n",
       "      <td>0.0</td>\n",
       "      <td>0.0</td>\n",
       "      <td>0.5</td>\n",
       "      <td>0.000000</td>\n",
       "      <td>0.621525</td>\n",
       "      <td>...</td>\n",
       "      <td>0</td>\n",
       "      <td>0</td>\n",
       "      <td>0</td>\n",
       "      <td>1</td>\n",
       "      <td>0</td>\n",
       "      <td>0</td>\n",
       "      <td>0</td>\n",
       "      <td>1</td>\n",
       "      <td>0</td>\n",
       "      <td>12.247699</td>\n",
       "    </tr>\n",
       "    <tr>\n",
       "      <th>2</th>\n",
       "      <td>0.547599</td>\n",
       "      <td>0.035675</td>\n",
       "      <td>0.0</td>\n",
       "      <td>0.0</td>\n",
       "      <td>0.0</td>\n",
       "      <td>0.0</td>\n",
       "      <td>0.0</td>\n",
       "      <td>0.0</td>\n",
       "      <td>2.630317</td>\n",
       "      <td>0.062576</td>\n",
       "      <td>...</td>\n",
       "      <td>0</td>\n",
       "      <td>0</td>\n",
       "      <td>0</td>\n",
       "      <td>1</td>\n",
       "      <td>0</td>\n",
       "      <td>0</td>\n",
       "      <td>0</td>\n",
       "      <td>1</td>\n",
       "      <td>0</td>\n",
       "      <td>12.109016</td>\n",
       "    </tr>\n",
       "    <tr>\n",
       "      <th>3</th>\n",
       "      <td>-0.072504</td>\n",
       "      <td>0.399864</td>\n",
       "      <td>0.0</td>\n",
       "      <td>0.0</td>\n",
       "      <td>-1.0</td>\n",
       "      <td>0.0</td>\n",
       "      <td>0.0</td>\n",
       "      <td>0.5</td>\n",
       "      <td>0.000000</td>\n",
       "      <td>0.580380</td>\n",
       "      <td>...</td>\n",
       "      <td>0</td>\n",
       "      <td>0</td>\n",
       "      <td>0</td>\n",
       "      <td>1</td>\n",
       "      <td>0</td>\n",
       "      <td>0</td>\n",
       "      <td>0</td>\n",
       "      <td>1</td>\n",
       "      <td>0</td>\n",
       "      <td>12.317171</td>\n",
       "    </tr>\n",
       "    <tr>\n",
       "      <th>4</th>\n",
       "      <td>-0.549090</td>\n",
       "      <td>0.023685</td>\n",
       "      <td>0.0</td>\n",
       "      <td>0.0</td>\n",
       "      <td>-1.0</td>\n",
       "      <td>0.0</td>\n",
       "      <td>0.0</td>\n",
       "      <td>0.5</td>\n",
       "      <td>0.000000</td>\n",
       "      <td>-1.228865</td>\n",
       "      <td>...</td>\n",
       "      <td>0</td>\n",
       "      <td>0</td>\n",
       "      <td>0</td>\n",
       "      <td>1</td>\n",
       "      <td>0</td>\n",
       "      <td>0</td>\n",
       "      <td>0</td>\n",
       "      <td>0</td>\n",
       "      <td>0</td>\n",
       "      <td>11.849405</td>\n",
       "    </tr>\n",
       "    <tr>\n",
       "      <th>5</th>\n",
       "      <td>0.734014</td>\n",
       "      <td>0.944281</td>\n",
       "      <td>0.0</td>\n",
       "      <td>0.0</td>\n",
       "      <td>-1.0</td>\n",
       "      <td>0.0</td>\n",
       "      <td>0.0</td>\n",
       "      <td>1.0</td>\n",
       "      <td>0.000000</td>\n",
       "      <td>0.559792</td>\n",
       "      <td>...</td>\n",
       "      <td>0</td>\n",
       "      <td>0</td>\n",
       "      <td>0</td>\n",
       "      <td>1</td>\n",
       "      <td>0</td>\n",
       "      <td>0</td>\n",
       "      <td>0</td>\n",
       "      <td>1</td>\n",
       "      <td>0</td>\n",
       "      <td>12.429220</td>\n",
       "    </tr>\n",
       "  </tbody>\n",
       "</table>\n",
       "<p>5 rows × 229 columns</p>\n",
       "</div>"
      ],
      "text/plain": [
       "    LotFrontage   LotArea  Street  Alley  LotShape  Utilities  LandSlope  \\\n",
       "Id                                                                         \n",
       "1     -0.244415 -0.257308     0.0    0.0       0.0        0.0        0.0   \n",
       "2      0.547599  0.035675     0.0    0.0       0.0        0.0        0.0   \n",
       "3     -0.072504  0.399864     0.0    0.0      -1.0        0.0        0.0   \n",
       "4     -0.549090  0.023685     0.0    0.0      -1.0        0.0        0.0   \n",
       "5      0.734014  0.944281     0.0    0.0      -1.0        0.0        0.0   \n",
       "\n",
       "    OverallQual  OverallCond  YearBuilt  ...  SaleType_ConLw  SaleType_New  \\\n",
       "Id                                       ...                                 \n",
       "1           0.5     0.000000   0.621525  ...               0             0   \n",
       "2           0.0     2.630317   0.062576  ...               0             0   \n",
       "3           0.5     0.000000   0.580380  ...               0             0   \n",
       "4           0.5     0.000000  -1.228865  ...               0             0   \n",
       "5           1.0     0.000000   0.559792  ...               0             0   \n",
       "\n",
       "    SaleType_Oth  SaleType_WD  SaleCondition_AdjLand  SaleCondition_Alloca  \\\n",
       "Id                                                                           \n",
       "1              0            1                      0                     0   \n",
       "2              0            1                      0                     0   \n",
       "3              0            1                      0                     0   \n",
       "4              0            1                      0                     0   \n",
       "5              0            1                      0                     0   \n",
       "\n",
       "    SaleCondition_Family  SaleCondition_Normal  SaleCondition_Partial  \\\n",
       "Id                                                                      \n",
       "1                      0                     1                      0   \n",
       "2                      0                     1                      0   \n",
       "3                      0                     1                      0   \n",
       "4                      0                     0                      0   \n",
       "5                      0                     1                      0   \n",
       "\n",
       "    SalePrice  \n",
       "Id             \n",
       "1   12.247699  \n",
       "2   12.109016  \n",
       "3   12.317171  \n",
       "4   11.849405  \n",
       "5   12.429220  \n",
       "\n",
       "[5 rows x 229 columns]"
      ]
     },
     "execution_count": 64,
     "metadata": {},
     "output_type": "execute_result"
    }
   ],
   "source": [
    "# Load data\n",
    "train_data = pd.read_csv('train_official.csv', index_col='Id')\n",
    "test_data = pd.read_csv('test_official.csv', index_col='Id')\n",
    "train_data.head()"
   ]
  },
  {
   "cell_type": "code",
   "execution_count": 65,
   "metadata": {},
   "outputs": [],
   "source": [
    "# Seperate features and target variable\n",
    "X_train = np.array(train_data.drop(['SalePrice'], axis=1))\n",
    "y = np.array(train_data.SalePrice)"
   ]
  },
  {
   "cell_type": "code",
   "execution_count": 66,
   "metadata": {},
   "outputs": [
    {
     "data": {
      "text/plain": [
       "(1458, 228)"
      ]
     },
     "execution_count": 66,
     "metadata": {},
     "output_type": "execute_result"
    }
   ],
   "source": [
    "X_train.shape"
   ]
  },
  {
   "attachments": {},
   "cell_type": "markdown",
   "metadata": {},
   "source": [
    "# 1. MODELING"
   ]
  },
  {
   "attachments": {},
   "cell_type": "markdown",
   "metadata": {},
   "source": [
    "## Nhắc lại về hồi quy tuyến tính\n",
    "**Phương trình hồi quy trên mẫu nghiên cứu:**\n",
    "\n",
    "$Y = w_0 + w_1x_1 + w_2x_2 + … + w_nx_n + ε$\n",
    "\n",
    "Trong đó:\n",
    "\n",
    "- $Y$: biến phụ thuộc\n",
    "- $X, X_1, X_2, X_n$: biến độc lập\n",
    "- $B_0$: hằng số hồi quy\n",
    "- $B_1, B_2, B_n$: hệ số hồi quy\n",
    "- $ε$: phần dư"
   ]
  },
  {
   "attachments": {},
   "cell_type": "markdown",
   "metadata": {},
   "source": [
    "- Cần tìm w = [$w_0, w_1, ..., w_n$] sao cho tối thiểu hàm mất mát, ví dụ như hàm MSE.\n",
    "![image.png](./img/MSE.png)"
   ]
  },
  {
   "attachments": {},
   "cell_type": "markdown",
   "metadata": {},
   "source": [
    "## Cách đánh giá mô hình\n",
    "\n",
    "Trong model evaluation, thường thì ta sẽ chia toàn bộ data làm 2 tập train và test. Tuy nhiên data khá nhỏ, nên nếu chia như vậy, thì có lẽ mô hình sẽ dễ bị overfitting, do đó, ta dùng `cross-validation` để train mô hình.\n",
    "\n",
    "\n",
    "Đề bài yêu cầu đánh giá mô hình bằng độ đo RMSE, tuy nhiên do target variable đã được biến đổi qua log(1 + y), nên MSE cho log(1 + y) là MSLE - Mean Squared Logarithmic Error."
   ]
  },
  {
   "cell_type": "code",
   "execution_count": 67,
   "metadata": {},
   "outputs": [],
   "source": [
    "from sklearn.model_selection import KFold, cross_val_score\n",
    "\n",
    "n_folds = 5\n",
    "\n",
    "def getRMSLE(model):\n",
    "    \"\"\"\n",
    "    Return the average RMSLE over all folds of training data.\n",
    "    \"\"\"\n",
    "    # Set KFold to shuffle data before the split\n",
    "    kf = KFold(n_folds, shuffle=True, random_state=42)\n",
    "\n",
    "    # Get RMSLE score\n",
    "    rmse = np.sqrt(-cross_val_score(\n",
    "        model, X_train, y, scoring=\"neg_mean_squared_error\", cv=kf))\n",
    "\n",
    "    return rmse.mean()"
   ]
  },
  {
   "attachments": {},
   "cell_type": "markdown",
   "metadata": {},
   "source": [
    "## 1.1 REGULARIZED REGRESSIONS"
   ]
  },
  {
   "attachments": {},
   "cell_type": "markdown",
   "metadata": {},
   "source": [
    "### 1.1.1 Ridge"
   ]
  },
  {
   "attachments": {},
   "cell_type": "markdown",
   "metadata": {},
   "source": [
    "Hàm mất mát trong hồi qui Ridge sẽ có sự thay đổi so với hồi qui tuyến tính, đó là thêm Regularization Term so với hàm mất mát của hồi qui tuyến tính thông thường."
   ]
  },
  {
   "attachments": {},
   "cell_type": "markdown",
   "metadata": {},
   "source": [
    "#### Regularization Term = $λ * ||β||^2$\n",
    "Trong đó: \n",
    "- $λ$ là hyperparameter\n",
    "- $||β||^2$ là bình phương độ lớn của các hệ số hồi quy\n"
   ]
  },
  {
   "attachments": {},
   "cell_type": "markdown",
   "metadata": {},
   "source": [
    "- Đối với `Hồi quy tuyến tính` mô hình có thể bị Overfitting nếu nó lấy luôn những w quá nhỏ.\n",
    "\n",
    "- Tham số λ kiểm soát Regularization Term và quyết định mức độ thu nhỏ với những hệ số hồi quy, có thể hiểu Regularization Term là để quyết định có giữ hay không các w nhỏ.\n",
    "\n",
    "- Hệ số λ lớn dẫn đến hệ số hồi quy thu nhỏ gần về 0 và kết quả là mô hình giảm độ phức tạp, λ nhỏ dẫn đến vai trò của Regularization Term ít ảnh hưởng đến hàm mất mát. Mức độ kiểm soát quá khớp của mô hình sẽ trở nên kém hơn."
   ]
  },
  {
   "attachments": {},
   "cell_type": "markdown",
   "metadata": {},
   "source": [
    "Giá trị của λ thường dược lựa chọn bằng cách dùng  cross-validation (xác thực chéo), bao gồm việc fit mô hình theo nhiều subsets of data và lựa chọn λ dựa vào tập validation được cho ra tốt nhất."
   ]
  },
  {
   "cell_type": "code",
   "execution_count": 68,
   "metadata": {},
   "outputs": [],
   "source": [
    "from sklearn.linear_model import Ridge"
   ]
  },
  {
   "cell_type": "code",
   "execution_count": 69,
   "metadata": {},
   "outputs": [
    {
     "data": {
      "image/png": "[encoded data removed]",
      "text/plain": [
       "<Figure size 1200x800 with 1 Axes>"
      ]
     },
     "metadata": {},
     "output_type": "display_data"
    }
   ],
   "source": [
    "# Generate sample data\n",
    "X_, y_ = make_regression(n_samples=100, n_features=10, noise=10, random_state=42)\n",
    "\n",
    "# Split data into training and test sets\n",
    "X_train_, X_test_, y_train_, y_test_ = train_test_split(X_, y_, test_size=0.2, random_state=42)\n",
    "\n",
    "# Scale data using StandardScaler\n",
    "scaler = StandardScaler()\n",
    "X_train_scaled = scaler.fit_transform(X_train_)\n",
    "X_test_scaled = scaler.transform(X_test_)\n",
    "\n",
    "# Fit ridge regression model with different values of lambda\n",
    "n_alphas = 200\n",
    "alphas = 1/np.logspace(3, -6, n_alphas)\n",
    "coefs = []\n",
    "for a in alphas:\n",
    "    ridge = Ridge(alpha=a, fit_intercept=False)\n",
    "    ridge.fit(X_train_scaled, y_train_)\n",
    "    coefs.append(ridge.coef_)\n",
    "\n",
    "# Create regularization path plot\n",
    "plt.figure(figsize=(12, 8))\n",
    "ax = plt.gca()\n",
    "ax.plot(alphas, coefs)\n",
    "ax.set_xscale('log')\n",
    "ax.set_xlim(ax.get_xlim()[::-1])\n",
    "plt.xlabel('lambda')\n",
    "plt.ylabel('coefficients')\n",
    "plt.title('Ridge regularization path')\n",
    "plt.axis('tight')\n",
    "plt.show()"
   ]
  },
  {
   "attachments": {},
   "cell_type": "markdown",
   "metadata": {},
   "source": [
    "Với thuật toán regularized linear regression (Ridge), ta đi tối thiểu hàm mất mát:\n",
    "\n",
    "![image.png](./img/Loss_Ridge.png)\n",
    "\n",
    "Nhóm sẽ tìm $\\lambda$ tốt nhất cho smallest **RMSLE** thông qua phương pháp cross-validation:"
   ]
  },
  {
   "cell_type": "code",
   "execution_count": 70,
   "metadata": {},
   "outputs": [
    {
     "name": "stdout",
     "output_type": "stream",
     "text": [
      "Best lambda: 13.8\n",
      "RMSLE: 0.1157173637684539\n"
     ]
    },
    {
     "data": {
      "image/png": "[encoded data removed]",
      "text/plain": [
       "<Figure size 640x480 with 1 Axes>"
      ]
     },
     "metadata": {},
     "output_type": "display_data"
    }
   ],
   "source": [
    "lambda_list = list(np.linspace(10, 20, 101))\n",
    "\n",
    "rmsle_ridge = [getRMSLE(Ridge(alpha=lambda_)) for lambda_ in lambda_list]\n",
    "rmsle_ridge = pd.Series(rmsle_ridge, index=lambda_list)\n",
    "\n",
    "rmsle_ridge.plot(title=\"RMSLE by lambda\")\n",
    "plt.xlabel(\"Lambda\")\n",
    "plt.ylabel(\"RMSLE\")\n",
    "\n",
    "print(\"Best lambda:\", rmsle_ridge.idxmin())\n",
    "print(\"RMSLE:\", rmsle_ridge.min())"
   ]
  },
  {
   "cell_type": "code",
   "execution_count": 91,
   "metadata": {},
   "outputs": [],
   "source": [
    "ridge = Ridge(alpha = rmsle_ridge.idxmin())"
   ]
  },
  {
   "attachments": {},
   "cell_type": "markdown",
   "metadata": {},
   "source": [
    "### 1.1.2 Lasso"
   ]
  },
  {
   "attachments": {},
   "cell_type": "markdown",
   "metadata": {},
   "source": [
    "- Cũng tương tự với Ridge Regression, lasso regression cũng là một loại của hồi quy tuyến tính\n",
    "- Điểm khác biệt ở đây là, Regularization Term của Lasso regression khác với Ridge Regression.\n",
    "\n",
    "- Regularization term trong lasso regression là sẽ làm cho một số hệ số hồi quy sẽ được giảm về đúng bằng 0, tương đương với việc loại bỏ một số trọng số khỏi mô hình. Điều này giúp Lasso Regression phù hợp cho việc lựa chọn đặc trưng, vì nó có thể xác định những Feature quan trọng nhất để dự đoán kết quả cuối cùng.\n",
    "\n",
    "- Lasso regression thường được sử dụng trong trường hợp có nhiều tham số và một số trong số chúng có thể không liên quan hoặc trùng lặp, lợi ích của nó là làm đơn giản hóa mô hình và tăng tính giải thích của nó."
   ]
  },
  {
   "attachments": {},
   "cell_type": "markdown",
   "metadata": {},
   "source": [
    "#### Regularization Term = $λ * ||β||$\n",
    "Trong đó: \n",
    "- $λ$ là hyperparameter\n",
    "- $||β||$ độ lớn của các hệ số hồi quy\n"
   ]
  },
  {
   "cell_type": "code",
   "execution_count": 72,
   "metadata": {},
   "outputs": [],
   "source": [
    "from sklearn.linear_model import Lasso"
   ]
  },
  {
   "attachments": {},
   "cell_type": "markdown",
   "metadata": {},
   "source": [
    "Như đã biết ở trên, Lasso Regression là một thuật toán tương tự Ridge Regression. Sự khác biệt ở đây là regularization term, thay vì dùng **sum of squared of $\\theta$**, thì sử dụng **sum of absolute value of $\\theta$**:\n",
    "\n",
    "![image.png](./img/Loss_Lasso.png)\n",
    "\n",
    "Với phương pháp trên, chọn `lambda_` tốt nhất cho mô hình là  is **0.00058**."
   ]
  },
  {
   "cell_type": "code",
   "execution_count": 73,
   "metadata": {},
   "outputs": [
    {
     "name": "stdout",
     "output_type": "stream",
     "text": [
      "Best lambda: 0.0005808080808080809\n",
      "RMSLE: 0.11537177658532985\n"
     ]
    },
    {
     "data": {
      "image/png": "[encoded data removed]",
      "text/plain": [
       "<Figure size 640x480 with 1 Axes>"
      ]
     },
     "metadata": {},
     "output_type": "display_data"
    }
   ],
   "source": [
    "lambda_list = list(np.linspace(0.0005, 0.0007, 100))\n",
    "rmsle_lasso = [\n",
    "    getRMSLE(Lasso(alpha=lambda_, max_iter=1000)) for lambda_ in lambda_list\n",
    "]\n",
    "rmsle_lasso = pd.Series(rmsle_lasso, index=lambda_list)\n",
    "\n",
    "rmsle_lasso.plot(title=\"RMSLE by lambda\")\n",
    "plt.xlabel(\"Lambda\")\n",
    "plt.xticks(rotation = 45)\n",
    "plt.ylabel(\"RMSLE\")\n",
    "\n",
    "print(\"Best lambda:\", rmsle_lasso.idxmin())\n",
    "print(\"RMSLE:\", rmsle_lasso.min())"
   ]
  },
  {
   "cell_type": "code",
   "execution_count": 90,
   "metadata": {},
   "outputs": [],
   "source": [
    "lasso = Lasso(alpha = rmsle_lasso.idxmin(), max_iter=1000)"
   ]
  },
  {
   "attachments": {},
   "cell_type": "markdown",
   "metadata": {},
   "source": [
    "## 1.2 GRADIENT BOOSTING MODELS"
   ]
  },
  {
   "attachments": {},
   "cell_type": "markdown",
   "metadata": {},
   "source": [
    "### **BAYESIAN OPTIMIZATION**\n",
    "\n",
    "[Tham khảo tại đây!](https://thetalog.com/thetaflow/bayesian-optimization-visualizer/)"
   ]
  },
  {
   "attachments": {},
   "cell_type": "markdown",
   "metadata": {},
   "source": [
    "#### *Giới thiệu*\n",
    "\n",
    "- Tối ưu hóa (toán học) là ngành nghiên cứu tìm ra lời giải tối ưu (thỏa một số tiêu chí nhất định) từ tập lựa chọn cho trước. Tối ưu hóa giữ vai trò quan trọng trong nhiều ngành khác nhau, tùy theo ứng dụng của hệ thống mà sẽ có những độ đo liên quan, chúng ta mong muốn thiết kế những hệ thống vận hành một cách tốt nhất có thể, hay nói cách khác những độ đo liên quan (hiệu quả, an toàn và chính xác) phải ở trạng thái tối ưu.\n",
    "- Một quá trình tối ưu hóa hệ thống có thể mô tả như sau:\n",
    "\n",
    "![image.png](./img/progress%20BO.png)\n",
    "\n",
    "- Trong một số bài toán, chúng ta không hề biết công thức tổng quát của $f(x)$ (hoặc công thức tường minh quá phức tạp để có thể phân tích trực tiếp), lúc này chúng ta xem $f(x)$ như một hộp đen (black box function)\n",
    "\n",
    "![image-2.png](./img/Black%20box.png)"
   ]
  },
  {
   "attachments": {},
   "cell_type": "markdown",
   "metadata": {},
   "source": [
    "#### *Tình huống*\n",
    "- Nếu f(x) là một hàm không quá phức tạp với thời gian tính toán thấp, chúng ta có thể tìm kiếm theo lưới (`grid search`) hoặc tìm kiếm ngẫu nhiên (`random search`).\n",
    "- Tuy nhiên, đối với bài toán tối ưu trong trường hợp hàm số là hộp đen và có chi phí tính toán nặng nề thì `Bayesian Optimization` là một sự lựa chọn tốt nhất.\n",
    "\n",
    "![image.png](./img/Grid%20search.png)"
   ]
  },
  {
   "attachments": {
    "image.png": {
     "image/png": "[encoded data removed]"
    }
   },
   "cell_type": "markdown",
   "metadata": {},
   "source": [
    "#### *Surrogate Model*\n",
    "\n",
    "Nếu hàm số ${y} = f(x)$ có thể xây dựng mô hình thay thế, mô hình này cho phép mô tả một cách linh hoạt hàm cần tối ưu, đồng thời cho phép cho chúng ta khả năng ước lượng sự không chắc chắn về hàm số này.\n",
    "\n",
    "![image.png](./img/Solution.png)\n",
    "\n",
    "May mắn thay, nhiều phương pháp được xây dựng trên hướng tiếp cận thống kê Bayesian cho phép chúng ta xây dựng những mô hình như vậy! Một hàm tham thế, được xây dựng bởi niềm tin mà chúng ta tin vào dựa trên thông tin hiện có!\n",
    "\n",
    "Giả sử có 4 điểm, một cách tự nhiên, càng xa những điểm đã biết thì sự không chắc chắc càng lớn dần, càng gần thì càng chắc chắn.\n",
    "\n",
    "![image2.png](attachment:image.png)"
   ]
  },
  {
   "attachments": {},
   "cell_type": "markdown",
   "metadata": {},
   "source": [
    "#### *Mã giả*\n",
    "Với hàm số cần tối ưu $f(x)$ xây dựng một mô hình hàm thay thế tương ứng `surrogate_model` cùng với hàm tiếp nhận $α(x)$ tương ứng, cùng với tập dữ liệu mà ta quan sát $D$ (sẽ được cập nhật theo thời gian)\n",
    "\n",
    "![image.png](./img/Pseudo%20Code.png)\n",
    "\n",
    "Khi thực hành, Bayesian Optimization hiệu quả nhất khi `surrogate_model` ước lượng tốt, hàm `acquisition_function` chọn hợp lí, chi phí tính toán của `surrogate_model` và `acquisition_function` phải nhỏ.\n",
    "\n",
    "**Note:** Có thể demo cách chạy của Bayesian Optimization thông qua đường dẫn tham khảo !!"
   ]
  },
  {
   "attachments": {},
   "cell_type": "markdown",
   "metadata": {},
   "source": [
    "### 1.2.1 XGBRegressor"
   ]
  },
  {
   "attachments": {},
   "cell_type": "markdown",
   "metadata": {},
   "source": [
    "#### Gradient Boosting\n",
    "- XGBRegressor là phiên bản cải tiến của Gradient Boosting nên chúng ta sẽ tìm hiểu sơ về Gradient Boosting trước."
   ]
  },
  {
   "attachments": {},
   "cell_type": "markdown",
   "metadata": {},
   "source": [
    "- Boosting là kỹ thuật kết hợp nhiều model, mà model sau có thể học kinh nghiệm từ model trước.\n",
    "![image.png](./img/Boosting.png)"
   ]
  },
  {
   "attachments": {},
   "cell_type": "markdown",
   "metadata": {},
   "source": [
    "- Trong Gradient Boosting các model sẽ là các Decision Tree.\n",
    "- 1 Ví dụ đơn giản cho cách hoạt động của Gradient Boosting.\n",
    "![image.png](./img/GB_3.png)"
   ]
  },
  {
   "attachments": {},
   "cell_type": "markdown",
   "metadata": {},
   "source": [
    "- Sau nhiều lần lặp, thì Gradient Boosting sẽ có dạng như sau:\n",
    "![image.png](./img/GB_4.png)"
   ]
  },
  {
   "attachments": {},
   "cell_type": "markdown",
   "metadata": {},
   "source": [
    "- Thuật toán dừng đến khi cột cuối cùng cần dự đoán có số quá nhỏ, hoặc trong nhỏ hơn mức quy định."
   ]
  },
  {
   "attachments": {},
   "cell_type": "markdown",
   "metadata": {},
   "source": [
    "#### XGBRegeressor\n",
    "- Là thuật toán cải tiến từ Gradient Boosting, về cơ bản nó hoạt động như Gradient Boosting.\n",
    "- Bên cạnh đó, nó còn bổ sung thêm Regularization để tránh Overfitting, khi xây dựng 1 cây quyết định nó sẽ tỉa những nhánh không tốt,..."
   ]
  },
  {
   "attachments": {},
   "cell_type": "markdown",
   "metadata": {},
   "source": [
    "Theo [hướng dẫn này](https://www.analyticsvidhya.com/blog/2016/03/complete-guide-parameter-tuning-xgboost-with-codes-python/?fbclid=IwAR1NTAXqgYzjOOFw3qOV5DrcItwNoM73iPvWggnuyVR1PbvORiEUjRunipo) tham số cho thuật toán XGBoost, nhóm đã dùng thuật toán Bayesian Optimization để tìm các tham số tốt nhất:  `n_estimators`, `max_depth`, `min_child_weight`, `gamma`, `subsample`, `colsample_bytree`, `reg_alpha`, `reg_lambda`, `learning_rate`."
   ]
  },
  {
   "cell_type": "code",
   "execution_count": 75,
   "metadata": {},
   "outputs": [],
   "source": [
    "from xgboost import XGBRegressor"
   ]
  },
  {
   "attachments": {},
   "cell_type": "markdown",
   "metadata": {},
   "source": [
    "**Hyperparameter tuning sử dụng Bayesian Optimization**"
   ]
  },
  {
   "cell_type": "code",
   "execution_count": 76,
   "metadata": {},
   "outputs": [
    {
     "name": "stdout",
     "output_type": "stream",
     "text": [
      "100%|██████████| 100/100 [11:33<00:00,  6.94s/trial, best loss: 0.014319096920277042]\n",
      "Best hyperparameters: {'colsample_bytree': 0.051082998226815696, 'gamma': 0.005002121705383715, 'learning_rate': 2, 'max_depth': 4, 'min_child_weight': 2, 'n_estimators': 2091, 'reg_alpha': 0.38138906416634044, 'reg_lambda': 0.02669347437252248}\n"
     ]
    }
   ],
   "source": [
    "# import packages for hyperparameters tuning\n",
    "from hyperopt import STATUS_OK, Trials, fmin, hp, tpe\n",
    "\n",
    "space={'max_depth': hp.randint('max_depth', 1, 5),\n",
    "        'gamma': hp.uniform('gamma', 0, 1),\n",
    "        'learning_rate': hp.choice('learning_rate', [0.001, 0.01, 0.05, 0.1]),\n",
    "        'reg_alpha' : hp.uniform('reg_alpha', 0, 1),\n",
    "        'reg_lambda' : hp.uniform('reg_lambda', 0, 1),\n",
    "        'colsample_bytree' :  hp.uniform('colsample_bytree', 0, 1),\n",
    "        'min_child_weight' : hp.randint('min_child_weight', 0, 10),\n",
    "        'n_estimators': hp.randint('n_estimators', 1000, 2500)\n",
    "    }\n",
    "\n",
    "# Set up the k-fold cross-validation\n",
    "kfold = KFold(n_splits=5, shuffle=True, random_state=42)\n",
    "\n",
    "def objective(params):\n",
    "    \n",
    "    xgboost = XGBRegressor(seed=0, **params)\n",
    "    score = cross_val_score(estimator=xgboost, \n",
    "                            X=X_train, \n",
    "                            y=y, \n",
    "                            cv=kfold, \n",
    "                            scoring='neg_mean_squared_error', \n",
    "                            n_jobs=-1).mean()\n",
    "    # Loss is negative score\n",
    "    loss = - score\n",
    "    # Dictionary with information for evaluation\n",
    "    return {'loss': loss, 'params': params, 'status': STATUS_OK}\n",
    "\n",
    "# Optimize\n",
    "trials = Trials()\n",
    "best = fmin(fn=objective, \n",
    "            space=space, \n",
    "            algo=tpe.suggest, \n",
    "            max_evals=100, \n",
    "            trials=trials)\n",
    "\n",
    "print('Best hyperparameters:', best)"
   ]
  },
  {
   "cell_type": "code",
   "execution_count": 77,
   "metadata": {},
   "outputs": [
    {
     "data": {
      "text/plain": [
       "0.11943590078532977"
      ]
     },
     "execution_count": 77,
     "metadata": {},
     "output_type": "execute_result"
    }
   ],
   "source": [
    "lr = [0.001, 0.01, 0.05, 0.1]\n",
    "best['learning_rate'] = lr[best['learning_rate']]\n",
    "\n",
    "xgb = XGBRegressor(**best)\n",
    "getRMSLE(xgb)"
   ]
  },
  {
   "attachments": {},
   "cell_type": "markdown",
   "metadata": {},
   "source": [
    "Sau khi dùng Bayesian Optimization để tìm ra tham số tốt nhất cho `XGBRegressor`, nhóm chúng em chưa thực sự ưng ý với thông số này nên đã thêm một vài tham số mới và chỉnh tay (thử và sai) các thông số cũ, và nhận được kết quả khả quan hơn."
   ]
  },
  {
   "cell_type": "code",
   "execution_count": 78,
   "metadata": {},
   "outputs": [
    {
     "data": {
      "text/plain": [
       "0.11665545482038805"
      ]
     },
     "execution_count": 78,
     "metadata": {},
     "output_type": "execute_result"
    }
   ],
   "source": [
    "xgb = XGBRegressor(learning_rate=0.05,\n",
    "                   n_estimators=2100,\n",
    "                   max_depth=3,\n",
    "                   min_child_weight=7,\n",
    "                   gamma=0.00435,\n",
    "                   subsample=0.65,\n",
    "                   colsample_bytree=0.1761,\n",
    "                   nthread=-1,\n",
    "                   scale_pos_weight=1,\n",
    "                   reg_alpha=0.41578,\n",
    "                   reg_lambda=0.8678,\n",
    "                   n_jobs=2)\n",
    "getRMSLE(xgb)"
   ]
  },
  {
   "attachments": {},
   "cell_type": "markdown",
   "metadata": {},
   "source": [
    "### 1.2.2 LGBMRegressor"
   ]
  },
  {
   "attachments": {},
   "cell_type": "markdown",
   "metadata": {},
   "source": [
    "LightGBM là một framork gradient boosting rất mạnh dựa trên thuật toán decision tree. \n",
    "\n",
    "Giống như XGBoost, LightGBM có kết quả tốt trên tập dữ liệu lớn và có tốc độ training nhanh hơn XGBoost nhiều. \n",
    "\n",
    "- Điểm tối ưu của lightgbm so với xgboost là ở 2 thuật toán: GOSS (Gradient Based One Side Sampling) và EFB (Exclusive Feature Bundling) giúp tăng tốc đáng kể trong quá trình tính toán. "
   ]
  },
  {
   "attachments": {},
   "cell_type": "markdown",
   "metadata": {},
   "source": [
    "- Ngoài ra, LightGBM phát triển tree dựa trên leaf-wise, trong khi hầu hết các boosting tool khác (kể cả xgboost) dựa trên level-wise.\n",
    "\n",
    "- Leaf-wise và Level-wise đều cho ra kết quả giống nhau khi xây dựng toàn bộ cây. Tuy nhiên, người ta ít khi xây dựng toàn bộ cây, mà sẽ quy định max_depth. Đối với, Leaf-wise lựa chọn nút để phát triển cây dựa trên tối ưu toàn bộ tree, trong khi level-wise tối ưu trên nhánh đang xét. Do đó, nó sẽ tốt hơn level-wise nếu xây dựng cùng 1 độ sâu.\n",
    "\n",
    "- Note: Leaf-wise tuy tốt, nhưng với những bộ dữ liệu nhỏ, các tree xây dựng dựa trên leaf-wise thường dẫn đến overfit khá sớm. Do đó, lightgbm sử dụng thêm 1 hyperparameter là maxdepth nhằm cố gắng hạn chế điều này. Dù vậy, LightGBM vẫn được khuyến khích sử dụng khi bộ dữ liệu là đủ lớn."
   ]
  },
  {
   "attachments": {},
   "cell_type": "markdown",
   "metadata": {},
   "source": [
    "Theo [hướng dẫn này](https://www.analyticsvidhya.com/blog/2017/06/which-algorithm-takes-the-crown-light-gbm-vs-xgboost/?fbclid=IwAR3uYr9U1VDaqh_jEn1cjvMyjEWVHKMaDm_Q9yD1y08OkGBywRR0qpuhhtw), Nhóm đã tunning các tham số: `num_leaves`, `min_data_in_leaf`, `max_depth`, `bagging_fraction`, `feature_fraction`, `max_bin`. Theo như kết quả phía dưới, thì LightGBM cho kết quả tốt hơn XGBoost."
   ]
  },
  {
   "cell_type": "code",
   "execution_count": 79,
   "metadata": {},
   "outputs": [],
   "source": [
    "from lightgbm import LGBMRegressor"
   ]
  },
  {
   "attachments": {},
   "cell_type": "markdown",
   "metadata": {},
   "source": [
    "**Hyperparameter tuning sử dụng Bayesian Optimization**"
   ]
  },
  {
   "cell_type": "code",
   "execution_count": 80,
   "metadata": {},
   "outputs": [
    {
     "name": "stdout",
     "output_type": "stream",
     "text": [
      "100%|██████████| 200/200 [02:45<00:00,  1.21trial/s, best loss: 0.013595355279354246]\n",
      "Best hyperparameters: {'bagging_fraction': 0.7135985917690884, 'bagging_freq': 1, 'bagging_seed': 8, 'feature_fraction_seed': 4, 'learning_rate': 1, 'max_bin': 94, 'max_depth': 2, 'min_data_in_leaf': 9, 'min_sum_hessian_in_leaf': 24, 'n_estimators': 873, 'num_leaves': 14}\n"
     ]
    }
   ],
   "source": [
    "space={'max_depth': hp.randint('max_depth', 1, 5),\n",
    "        'learning_rate': hp.choice('learning_rate', [ 0.02, 0.05, 0.075, 1]),\n",
    "        'num_leaves': hp.randint('num_leaves', 10, 50),\n",
    "        'bagging_fraction':  hp.uniform('bagging_fraction', 0, 1),\n",
    "        'bagging_freq':  hp.randint('bagging_freq', 0, 10),\n",
    "        'n_estimators': hp.randint('n_estimators', 100, 1000),\n",
    "        'max_bin': hp.randint('max_bin', 75, 300),\n",
    "        'min_sum_hessian_in_leaf ': hp.randint('min_sum_hessian_in_leaf', 1, 50),\n",
    "        'min_data_in_leaf': hp.randint('min_data_in_leaf', 0, 50),\n",
    "        'feature_fraction_seed': hp.randint('feature_fraction_seed', 0, 8),\n",
    "        'bagging_seed': hp.randint('bagging_seed', 0, 10)\n",
    "    }\n",
    "\n",
    "# Set up the k-fold cross-validation\n",
    "kfold = KFold(n_splits=5, shuffle=True, random_state=0)\n",
    "\n",
    "def objective(params):\n",
    "    lgbm =  LGBMRegressor(objective='regression', seed=1, **params) \n",
    "    score = cross_val_score(estimator=lgbm, \n",
    "                            X=X_train, \n",
    "                            y=y, \n",
    "                            cv=kfold, \n",
    "                            scoring='neg_mean_squared_error', \n",
    "                            n_jobs=2).mean()\n",
    "    \n",
    "    # Loss is negative score\n",
    "    loss = - score\n",
    "    # Dictionary with information for evaluation\n",
    "    return {'loss': loss, 'params': params, 'status': STATUS_OK}\n",
    "\n",
    "# Optimize\n",
    "trials = Trials()\n",
    "best = fmin(fn=objective, \n",
    "            space=space, \n",
    "            algo=tpe.suggest, \n",
    "            max_evals=200, \n",
    "            trials=trials)\n",
    "\n",
    "print('Best hyperparameters:', best)"
   ]
  },
  {
   "cell_type": "code",
   "execution_count": 81,
   "metadata": {},
   "outputs": [
    {
     "name": "stdout",
     "output_type": "stream",
     "text": [
      "[07:26:40] WARNING: C:\\buildkite-agent\\builds\\buildkite-windows-cpu-autoscaling-group-i-07593ffd91cd9da33-1\\xgboost\\xgboost-ci-windows\\src\\learner.cc:767: \n",
      "Parameters: { \"bagging_fraction\", \"bagging_freq\", \"bagging_seed\", \"feature_fraction_seed\", \"min_data_in_leaf\", \"min_sum_hessian_in_leaf\", \"num_leaves\" } are not used.\n",
      "\n",
      "[07:26:41] WARNING: C:\\buildkite-agent\\builds\\buildkite-windows-cpu-autoscaling-group-i-07593ffd91cd9da33-1\\xgboost\\xgboost-ci-windows\\src\\learner.cc:767: \n",
      "Parameters: { \"bagging_fraction\", \"bagging_freq\", \"bagging_seed\", \"feature_fraction_seed\", \"min_data_in_leaf\", \"min_sum_hessian_in_leaf\", \"num_leaves\" } are not used.\n",
      "\n",
      "[07:26:43] WARNING: C:\\buildkite-agent\\builds\\buildkite-windows-cpu-autoscaling-group-i-07593ffd91cd9da33-1\\xgboost\\xgboost-ci-windows\\src\\learner.cc:767: \n",
      "Parameters: { \"bagging_fraction\", \"bagging_freq\", \"bagging_seed\", \"feature_fraction_seed\", \"min_data_in_leaf\", \"min_sum_hessian_in_leaf\", \"num_leaves\" } are not used.\n",
      "\n",
      "[07:26:44] WARNING: C:\\buildkite-agent\\builds\\buildkite-windows-cpu-autoscaling-group-i-07593ffd91cd9da33-1\\xgboost\\xgboost-ci-windows\\src\\learner.cc:767: \n",
      "Parameters: { \"bagging_fraction\", \"bagging_freq\", \"bagging_seed\", \"feature_fraction_seed\", \"min_data_in_leaf\", \"min_sum_hessian_in_leaf\", \"num_leaves\" } are not used.\n",
      "\n",
      "[07:26:45] WARNING: C:\\buildkite-agent\\builds\\buildkite-windows-cpu-autoscaling-group-i-07593ffd91cd9da33-1\\xgboost\\xgboost-ci-windows\\src\\learner.cc:767: \n",
      "Parameters: { \"bagging_fraction\", \"bagging_freq\", \"bagging_seed\", \"feature_fraction_seed\", \"min_data_in_leaf\", \"min_sum_hessian_in_leaf\", \"num_leaves\" } are not used.\n",
      "\n"
     ]
    },
    {
     "data": {
      "text/plain": [
       "0.12331514687716276"
      ]
     },
     "execution_count": 81,
     "metadata": {},
     "output_type": "execute_result"
    }
   ],
   "source": [
    "lr = [ 0.02, 0.05, 0.075, 1]\n",
    "best['learning_rate'] = lr[best['learning_rate']]\n",
    "\n",
    "xgb = XGBRegressor(**best)\n",
    "getRMSLE(xgb)"
   ]
  },
  {
   "attachments": {},
   "cell_type": "markdown",
   "metadata": {},
   "source": [
    "Sau khi dùng Bayesian Optimization để tìm ra tham số tốt nhất cho `LGBMRegressor`, nhóm chúng em chưa thực sự ưng ý với thông số này nên đã thêm một vài tham số mới và chỉnh tay (thử và sai) các thông số cũ, và nhận được kết quả khả quan hơn."
   ]
  },
  {
   "cell_type": "code",
   "execution_count": 82,
   "metadata": {},
   "outputs": [
    {
     "name": "stdout",
     "output_type": "stream",
     "text": [
      "[LightGBM] [Warning] feature_fraction is set=0.24, colsample_bytree=1.0 will be ignored. Current value: feature_fraction=0.24\n",
      "[LightGBM] [Warning] min_data_in_leaf is set=4, min_child_samples=20 will be ignored. Current value: min_data_in_leaf=4\n",
      "[LightGBM] [Warning] min_sum_hessian_in_leaf is set=0, min_child_weight=0.001 will be ignored. Current value: min_sum_hessian_in_leaf=0\n",
      "[LightGBM] [Warning] bagging_fraction is set=0.4586, subsample=1.0 will be ignored. Current value: bagging_fraction=0.4586\n",
      "[LightGBM] [Warning] bagging_freq is set=1, subsample_freq=0 will be ignored. Current value: bagging_freq=1\n",
      "[LightGBM] [Warning] feature_fraction is set=0.24, colsample_bytree=1.0 will be ignored. Current value: feature_fraction=0.24\n",
      "[LightGBM] [Warning] min_data_in_leaf is set=4, min_child_samples=20 will be ignored. Current value: min_data_in_leaf=4\n",
      "[LightGBM] [Warning] min_sum_hessian_in_leaf is set=0, min_child_weight=0.001 will be ignored. Current value: min_sum_hessian_in_leaf=0\n",
      "[LightGBM] [Warning] bagging_fraction is set=0.4586, subsample=1.0 will be ignored. Current value: bagging_fraction=0.4586\n",
      "[LightGBM] [Warning] bagging_freq is set=1, subsample_freq=0 will be ignored. Current value: bagging_freq=1\n",
      "[LightGBM] [Warning] feature_fraction is set=0.24, colsample_bytree=1.0 will be ignored. Current value: feature_fraction=0.24\n",
      "[LightGBM] [Warning] min_data_in_leaf is set=4, min_child_samples=20 will be ignored. Current value: min_data_in_leaf=4\n",
      "[LightGBM] [Warning] min_sum_hessian_in_leaf is set=0, min_child_weight=0.001 will be ignored. Current value: min_sum_hessian_in_leaf=0\n",
      "[LightGBM] [Warning] bagging_fraction is set=0.4586, subsample=1.0 will be ignored. Current value: bagging_fraction=0.4586\n",
      "[LightGBM] [Warning] bagging_freq is set=1, subsample_freq=0 will be ignored. Current value: bagging_freq=1\n",
      "[LightGBM] [Warning] feature_fraction is set=0.24, colsample_bytree=1.0 will be ignored. Current value: feature_fraction=0.24\n",
      "[LightGBM] [Warning] min_data_in_leaf is set=4, min_child_samples=20 will be ignored. Current value: min_data_in_leaf=4\n",
      "[LightGBM] [Warning] min_sum_hessian_in_leaf is set=0, min_child_weight=0.001 will be ignored. Current value: min_sum_hessian_in_leaf=0\n",
      "[LightGBM] [Warning] bagging_fraction is set=0.4586, subsample=1.0 will be ignored. Current value: bagging_fraction=0.4586\n",
      "[LightGBM] [Warning] bagging_freq is set=1, subsample_freq=0 will be ignored. Current value: bagging_freq=1\n",
      "[LightGBM] [Warning] feature_fraction is set=0.24, colsample_bytree=1.0 will be ignored. Current value: feature_fraction=0.24\n",
      "[LightGBM] [Warning] min_data_in_leaf is set=4, min_child_samples=20 will be ignored. Current value: min_data_in_leaf=4\n",
      "[LightGBM] [Warning] min_sum_hessian_in_leaf is set=0, min_child_weight=0.001 will be ignored. Current value: min_sum_hessian_in_leaf=0\n",
      "[LightGBM] [Warning] bagging_fraction is set=0.4586, subsample=1.0 will be ignored. Current value: bagging_fraction=0.4586\n",
      "[LightGBM] [Warning] bagging_freq is set=1, subsample_freq=0 will be ignored. Current value: bagging_freq=1\n"
     ]
    },
    {
     "data": {
      "text/plain": [
       "0.1144178513898916"
      ]
     },
     "execution_count": 82,
     "metadata": {},
     "output_type": "execute_result"
    }
   ],
   "source": [
    "lgb = LGBMRegressor(objective='regression',\n",
    "                    learning_rate=0.05,\n",
    "                    n_estimators=471,\n",
    "                    num_leaves=10,\n",
    "                    min_data_in_leaf=4,\n",
    "                    max_depth=3,\n",
    "                    max_bin=120,\n",
    "                    bagging_fraction=0.4586,\n",
    "                    bagging_freq=1,\n",
    "                    feature_fraction=0.24,\n",
    "                    feature_fraction_seed=5,\n",
    "                    bagging_seed=7,\n",
    "                    min_sum_hessian_in_leaf=0)\n",
    "getRMSLE(lgb)"
   ]
  },
  {
   "attachments": {},
   "cell_type": "markdown",
   "metadata": {},
   "source": [
    "## 1.3 ENSEMBLE MODELS"
   ]
  },
  {
   "attachments": {},
   "cell_type": "markdown",
   "metadata": {},
   "source": [
    "### 1.3.1 Bagging - Average Models"
   ]
  },
  {
   "cell_type": "code",
   "execution_count": 83,
   "metadata": {},
   "outputs": [],
   "source": [
    "from sklearn.base import BaseEstimator, RegressorMixin, TransformerMixin, clone\n",
    "\n",
    "\n",
    "class AveragingModel(BaseEstimator, RegressorMixin, TransformerMixin):\n",
    "    def __init__(self, models):\n",
    "        self.models = models\n",
    "\n",
    "    def fit(self, X, y):\n",
    "        # Create clone models\n",
    "        self.models_ = [clone(x) for x in self.models]\n",
    "\n",
    "        # Train cloned models\n",
    "        for model in self.models_:\n",
    "            model.fit(X, y)\n",
    "\n",
    "        return self\n",
    "\n",
    "    def predict(self, X):\n",
    "        # Get predictions from trained clone models\n",
    "        predictions = np.column_stack(\n",
    "            [model.predict(X) for model in self.models_])\n",
    "\n",
    "        # Return average predictions\n",
    "        return np.mean(predictions, axis=1)"
   ]
  },
  {
   "cell_type": "code",
   "execution_count": 92,
   "metadata": {},
   "outputs": [
    {
     "name": "stdout",
     "output_type": "stream",
     "text": [
      "[07:28:34] WARNING: C:\\buildkite-agent\\builds\\buildkite-windows-cpu-autoscaling-group-i-07593ffd91cd9da33-1\\xgboost\\xgboost-ci-windows\\src\\learner.cc:767: \n",
      "Parameters: { \"bagging_fraction\", \"bagging_freq\", \"bagging_seed\", \"feature_fraction_seed\", \"min_data_in_leaf\", \"min_sum_hessian_in_leaf\", \"num_leaves\" } are not used.\n",
      "\n",
      "[LightGBM] [Warning] feature_fraction is set=0.24, colsample_bytree=1.0 will be ignored. Current value: feature_fraction=0.24\n",
      "[LightGBM] [Warning] min_data_in_leaf is set=4, min_child_samples=20 will be ignored. Current value: min_data_in_leaf=4\n",
      "[LightGBM] [Warning] min_sum_hessian_in_leaf is set=0, min_child_weight=0.001 will be ignored. Current value: min_sum_hessian_in_leaf=0\n",
      "[LightGBM] [Warning] bagging_fraction is set=0.4586, subsample=1.0 will be ignored. Current value: bagging_fraction=0.4586\n",
      "[LightGBM] [Warning] bagging_freq is set=1, subsample_freq=0 will be ignored. Current value: bagging_freq=1\n",
      "[07:28:36] WARNING: C:\\buildkite-agent\\builds\\buildkite-windows-cpu-autoscaling-group-i-07593ffd91cd9da33-1\\xgboost\\xgboost-ci-windows\\src\\learner.cc:767: \n",
      "Parameters: { \"bagging_fraction\", \"bagging_freq\", \"bagging_seed\", \"feature_fraction_seed\", \"min_data_in_leaf\", \"min_sum_hessian_in_leaf\", \"num_leaves\" } are not used.\n",
      "\n",
      "[LightGBM] [Warning] feature_fraction is set=0.24, colsample_bytree=1.0 will be ignored. Current value: feature_fraction=0.24\n",
      "[LightGBM] [Warning] min_data_in_leaf is set=4, min_child_samples=20 will be ignored. Current value: min_data_in_leaf=4\n",
      "[LightGBM] [Warning] min_sum_hessian_in_leaf is set=0, min_child_weight=0.001 will be ignored. Current value: min_sum_hessian_in_leaf=0\n",
      "[LightGBM] [Warning] bagging_fraction is set=0.4586, subsample=1.0 will be ignored. Current value: bagging_fraction=0.4586\n",
      "[LightGBM] [Warning] bagging_freq is set=1, subsample_freq=0 will be ignored. Current value: bagging_freq=1\n",
      "[07:28:37] WARNING: C:\\buildkite-agent\\builds\\buildkite-windows-cpu-autoscaling-group-i-07593ffd91cd9da33-1\\xgboost\\xgboost-ci-windows\\src\\learner.cc:767: \n",
      "Parameters: { \"bagging_fraction\", \"bagging_freq\", \"bagging_seed\", \"feature_fraction_seed\", \"min_data_in_leaf\", \"min_sum_hessian_in_leaf\", \"num_leaves\" } are not used.\n",
      "\n",
      "[LightGBM] [Warning] feature_fraction is set=0.24, colsample_bytree=1.0 will be ignored. Current value: feature_fraction=0.24\n",
      "[LightGBM] [Warning] min_data_in_leaf is set=4, min_child_samples=20 will be ignored. Current value: min_data_in_leaf=4\n",
      "[LightGBM] [Warning] min_sum_hessian_in_leaf is set=0, min_child_weight=0.001 will be ignored. Current value: min_sum_hessian_in_leaf=0\n",
      "[LightGBM] [Warning] bagging_fraction is set=0.4586, subsample=1.0 will be ignored. Current value: bagging_fraction=0.4586\n",
      "[LightGBM] [Warning] bagging_freq is set=1, subsample_freq=0 will be ignored. Current value: bagging_freq=1\n",
      "[07:28:38] WARNING: C:\\buildkite-agent\\builds\\buildkite-windows-cpu-autoscaling-group-i-07593ffd91cd9da33-1\\xgboost\\xgboost-ci-windows\\src\\learner.cc:767: \n",
      "Parameters: { \"bagging_fraction\", \"bagging_freq\", \"bagging_seed\", \"feature_fraction_seed\", \"min_data_in_leaf\", \"min_sum_hessian_in_leaf\", \"num_leaves\" } are not used.\n",
      "\n",
      "[LightGBM] [Warning] feature_fraction is set=0.24, colsample_bytree=1.0 will be ignored. Current value: feature_fraction=0.24\n",
      "[LightGBM] [Warning] min_data_in_leaf is set=4, min_child_samples=20 will be ignored. Current value: min_data_in_leaf=4\n",
      "[LightGBM] [Warning] min_sum_hessian_in_leaf is set=0, min_child_weight=0.001 will be ignored. Current value: min_sum_hessian_in_leaf=0\n",
      "[LightGBM] [Warning] bagging_fraction is set=0.4586, subsample=1.0 will be ignored. Current value: bagging_fraction=0.4586\n",
      "[LightGBM] [Warning] bagging_freq is set=1, subsample_freq=0 will be ignored. Current value: bagging_freq=1\n",
      "[07:28:39] WARNING: C:\\buildkite-agent\\builds\\buildkite-windows-cpu-autoscaling-group-i-07593ffd91cd9da33-1\\xgboost\\xgboost-ci-windows\\src\\learner.cc:767: \n",
      "Parameters: { \"bagging_fraction\", \"bagging_freq\", \"bagging_seed\", \"feature_fraction_seed\", \"min_data_in_leaf\", \"min_sum_hessian_in_leaf\", \"num_leaves\" } are not used.\n",
      "\n",
      "[LightGBM] [Warning] feature_fraction is set=0.24, colsample_bytree=1.0 will be ignored. Current value: feature_fraction=0.24\n",
      "[LightGBM] [Warning] min_data_in_leaf is set=4, min_child_samples=20 will be ignored. Current value: min_data_in_leaf=4\n",
      "[LightGBM] [Warning] min_sum_hessian_in_leaf is set=0, min_child_weight=0.001 will be ignored. Current value: min_sum_hessian_in_leaf=0\n",
      "[LightGBM] [Warning] bagging_fraction is set=0.4586, subsample=1.0 will be ignored. Current value: bagging_fraction=0.4586\n",
      "[LightGBM] [Warning] bagging_freq is set=1, subsample_freq=0 will be ignored. Current value: bagging_freq=1\n"
     ]
    },
    {
     "data": {
      "text/plain": [
       "0.11167594462058561"
      ]
     },
     "execution_count": 92,
     "metadata": {},
     "output_type": "execute_result"
    }
   ],
   "source": [
    "avg_model = AveragingModel(models=(ridge, lasso, xgb, lgb))\n",
    "getRMSLE(avg_model)"
   ]
  },
  {
   "attachments": {},
   "cell_type": "markdown",
   "metadata": {},
   "source": [
    "### 1.3.2 Stacking - Stack Average Models"
   ]
  },
  {
   "cell_type": "code",
   "execution_count": 85,
   "metadata": {},
   "outputs": [],
   "source": [
    "from sklearn.base import BaseEstimator, TransformerMixin, RegressorMixin, clone\n",
    "from sklearn.model_selection import KFold"
   ]
  },
  {
   "cell_type": "code",
   "execution_count": 86,
   "metadata": {},
   "outputs": [],
   "source": [
    "class StackingAveragedModels(BaseEstimator, RegressorMixin, TransformerMixin):\n",
    "    def __init__(self, base_models, meta_model, n_folds=5):\n",
    "        self.base_models = base_models\n",
    "        self.meta_model = meta_model\n",
    "        self.n_folds = n_folds\n",
    "   \n",
    "    # We again fit the data on clones of the original models\n",
    "    def fit(self, X, y):\n",
    "        self.base_models_ = [list() for x in self.base_models]\n",
    "        self.meta_model_ = clone(self.meta_model)\n",
    "        kfold = KFold(n_splits=self.n_folds, shuffle=True, random_state=156)\n",
    "        \n",
    "        # Train cloned base models then create out-of-fold predictions\n",
    "        # that are needed to train the cloned meta-model\n",
    "        out_of_fold_predictions = np.zeros((X.shape[0], len(self.base_models)))\n",
    "        for i, model in enumerate(self.base_models):\n",
    "            for train_index, holdout_index in kfold.split(X, y):\n",
    "                instance = clone(model)\n",
    "                self.base_models_[i].append(instance)\n",
    "                instance.fit(X[train_index], y[train_index])\n",
    "                y_pred = instance.predict(X[holdout_index])\n",
    "                out_of_fold_predictions[holdout_index, i] = y_pred\n",
    "                \n",
    "        # Now train the cloned  meta-model using the out-of-fold predictions as new feature\n",
    "        self.meta_model_.fit(out_of_fold_predictions, y)\n",
    "        return self\n",
    "   \n",
    "    #Do the predictions of all base models on the test data and use the averaged predictions as \n",
    "    #meta-features for the final prediction which is done by the meta-model\n",
    "    def predict(self, X):\n",
    "        meta_features = np.column_stack([\n",
    "            np.column_stack([model.predict(X) for model in base_models]).mean(axis=1)\n",
    "            for base_models in self.base_models_ ])\n",
    "        return self.meta_model_.predict(meta_features)"
   ]
  },
  {
   "cell_type": "code",
   "execution_count": 93,
   "metadata": {},
   "outputs": [
    {
     "name": "stdout",
     "output_type": "stream",
     "text": [
      "[07:28:56] WARNING: C:\\buildkite-agent\\builds\\buildkite-windows-cpu-autoscaling-group-i-07593ffd91cd9da33-1\\xgboost\\xgboost-ci-windows\\src\\learner.cc:767: \n",
      "Parameters: { \"bagging_fraction\", \"bagging_freq\", \"bagging_seed\", \"feature_fraction_seed\", \"min_data_in_leaf\", \"min_sum_hessian_in_leaf\", \"num_leaves\" } are not used.\n",
      "\n",
      "[07:28:56] WARNING: C:\\buildkite-agent\\builds\\buildkite-windows-cpu-autoscaling-group-i-07593ffd91cd9da33-1\\xgboost\\xgboost-ci-windows\\src\\learner.cc:767: \n",
      "Parameters: { \"bagging_fraction\", \"bagging_freq\", \"bagging_seed\", \"feature_fraction_seed\", \"min_data_in_leaf\", \"min_sum_hessian_in_leaf\", \"num_leaves\" } are not used.\n",
      "\n",
      "[07:28:57] WARNING: C:\\buildkite-agent\\builds\\buildkite-windows-cpu-autoscaling-group-i-07593ffd91cd9da33-1\\xgboost\\xgboost-ci-windows\\src\\learner.cc:767: \n",
      "Parameters: { \"bagging_fraction\", \"bagging_freq\", \"bagging_seed\", \"feature_fraction_seed\", \"min_data_in_leaf\", \"min_sum_hessian_in_leaf\", \"num_leaves\" } are not used.\n",
      "\n",
      "[07:28:58] WARNING: C:\\buildkite-agent\\builds\\buildkite-windows-cpu-autoscaling-group-i-07593ffd91cd9da33-1\\xgboost\\xgboost-ci-windows\\src\\learner.cc:767: \n",
      "Parameters: { \"bagging_fraction\", \"bagging_freq\", \"bagging_seed\", \"feature_fraction_seed\", \"min_data_in_leaf\", \"min_sum_hessian_in_leaf\", \"num_leaves\" } are not used.\n",
      "\n",
      "[07:28:59] WARNING: C:\\buildkite-agent\\builds\\buildkite-windows-cpu-autoscaling-group-i-07593ffd91cd9da33-1\\xgboost\\xgboost-ci-windows\\src\\learner.cc:767: \n",
      "Parameters: { \"bagging_fraction\", \"bagging_freq\", \"bagging_seed\", \"feature_fraction_seed\", \"min_data_in_leaf\", \"min_sum_hessian_in_leaf\", \"num_leaves\" } are not used.\n",
      "\n",
      "[LightGBM] [Warning] feature_fraction is set=0.24, colsample_bytree=1.0 will be ignored. Current value: feature_fraction=0.24\n",
      "[LightGBM] [Warning] min_data_in_leaf is set=4, min_child_samples=20 will be ignored. Current value: min_data_in_leaf=4\n",
      "[LightGBM] [Warning] min_sum_hessian_in_leaf is set=0, min_child_weight=0.001 will be ignored. Current value: min_sum_hessian_in_leaf=0\n",
      "[LightGBM] [Warning] bagging_fraction is set=0.4586, subsample=1.0 will be ignored. Current value: bagging_fraction=0.4586\n",
      "[LightGBM] [Warning] bagging_freq is set=1, subsample_freq=0 will be ignored. Current value: bagging_freq=1\n",
      "[LightGBM] [Warning] feature_fraction is set=0.24, colsample_bytree=1.0 will be ignored. Current value: feature_fraction=0.24\n",
      "[LightGBM] [Warning] min_data_in_leaf is set=4, min_child_samples=20 will be ignored. Current value: min_data_in_leaf=4\n",
      "[LightGBM] [Warning] min_sum_hessian_in_leaf is set=0, min_child_weight=0.001 will be ignored. Current value: min_sum_hessian_in_leaf=0\n",
      "[LightGBM] [Warning] bagging_fraction is set=0.4586, subsample=1.0 will be ignored. Current value: bagging_fraction=0.4586\n",
      "[LightGBM] [Warning] bagging_freq is set=1, subsample_freq=0 will be ignored. Current value: bagging_freq=1\n",
      "[LightGBM] [Warning] feature_fraction is set=0.24, colsample_bytree=1.0 will be ignored. Current value: feature_fraction=0.24\n",
      "[LightGBM] [Warning] min_data_in_leaf is set=4, min_child_samples=20 will be ignored. Current value: min_data_in_leaf=4\n",
      "[LightGBM] [Warning] min_sum_hessian_in_leaf is set=0, min_child_weight=0.001 will be ignored. Current value: min_sum_hessian_in_leaf=0\n",
      "[LightGBM] [Warning] bagging_fraction is set=0.4586, subsample=1.0 will be ignored. Current value: bagging_fraction=0.4586\n",
      "[LightGBM] [Warning] bagging_freq is set=1, subsample_freq=0 will be ignored. Current value: bagging_freq=1\n",
      "[LightGBM] [Warning] feature_fraction is set=0.24, colsample_bytree=1.0 will be ignored. Current value: feature_fraction=0.24\n",
      "[LightGBM] [Warning] min_data_in_leaf is set=4, min_child_samples=20 will be ignored. Current value: min_data_in_leaf=4\n",
      "[LightGBM] [Warning] min_sum_hessian_in_leaf is set=0, min_child_weight=0.001 will be ignored. Current value: min_sum_hessian_in_leaf=0\n",
      "[LightGBM] [Warning] bagging_fraction is set=0.4586, subsample=1.0 will be ignored. Current value: bagging_fraction=0.4586\n",
      "[LightGBM] [Warning] bagging_freq is set=1, subsample_freq=0 will be ignored. Current value: bagging_freq=1\n",
      "[LightGBM] [Warning] feature_fraction is set=0.24, colsample_bytree=1.0 will be ignored. Current value: feature_fraction=0.24\n",
      "[LightGBM] [Warning] min_data_in_leaf is set=4, min_child_samples=20 will be ignored. Current value: min_data_in_leaf=4\n",
      "[LightGBM] [Warning] min_sum_hessian_in_leaf is set=0, min_child_weight=0.001 will be ignored. Current value: min_sum_hessian_in_leaf=0\n",
      "[LightGBM] [Warning] bagging_fraction is set=0.4586, subsample=1.0 will be ignored. Current value: bagging_fraction=0.4586\n",
      "[LightGBM] [Warning] bagging_freq is set=1, subsample_freq=0 will be ignored. Current value: bagging_freq=1\n",
      "[07:29:01] WARNING: C:\\buildkite-agent\\builds\\buildkite-windows-cpu-autoscaling-group-i-07593ffd91cd9da33-1\\xgboost\\xgboost-ci-windows\\src\\learner.cc:767: \n",
      "Parameters: { \"bagging_fraction\", \"bagging_freq\", \"bagging_seed\", \"feature_fraction_seed\", \"min_data_in_leaf\", \"min_sum_hessian_in_leaf\", \"num_leaves\" } are not used.\n",
      "\n",
      "[07:29:02] WARNING: C:\\buildkite-agent\\builds\\buildkite-windows-cpu-autoscaling-group-i-07593ffd91cd9da33-1\\xgboost\\xgboost-ci-windows\\src\\learner.cc:767: \n",
      "Parameters: { \"bagging_fraction\", \"bagging_freq\", \"bagging_seed\", \"feature_fraction_seed\", \"min_data_in_leaf\", \"min_sum_hessian_in_leaf\", \"num_leaves\" } are not used.\n",
      "\n",
      "[07:29:02] WARNING: C:\\buildkite-agent\\builds\\buildkite-windows-cpu-autoscaling-group-i-07593ffd91cd9da33-1\\xgboost\\xgboost-ci-windows\\src\\learner.cc:767: \n",
      "Parameters: { \"bagging_fraction\", \"bagging_freq\", \"bagging_seed\", \"feature_fraction_seed\", \"min_data_in_leaf\", \"min_sum_hessian_in_leaf\", \"num_leaves\" } are not used.\n",
      "\n",
      "[07:29:03] WARNING: C:\\buildkite-agent\\builds\\buildkite-windows-cpu-autoscaling-group-i-07593ffd91cd9da33-1\\xgboost\\xgboost-ci-windows\\src\\learner.cc:767: \n",
      "Parameters: { \"bagging_fraction\", \"bagging_freq\", \"bagging_seed\", \"feature_fraction_seed\", \"min_data_in_leaf\", \"min_sum_hessian_in_leaf\", \"num_leaves\" } are not used.\n",
      "\n",
      "[07:29:04] WARNING: C:\\buildkite-agent\\builds\\buildkite-windows-cpu-autoscaling-group-i-07593ffd91cd9da33-1\\xgboost\\xgboost-ci-windows\\src\\learner.cc:767: \n",
      "Parameters: { \"bagging_fraction\", \"bagging_freq\", \"bagging_seed\", \"feature_fraction_seed\", \"min_data_in_leaf\", \"min_sum_hessian_in_leaf\", \"num_leaves\" } are not used.\n",
      "\n",
      "[LightGBM] [Warning] feature_fraction is set=0.24, colsample_bytree=1.0 will be ignored. Current value: feature_fraction=0.24\n",
      "[LightGBM] [Warning] min_data_in_leaf is set=4, min_child_samples=20 will be ignored. Current value: min_data_in_leaf=4\n",
      "[LightGBM] [Warning] min_sum_hessian_in_leaf is set=0, min_child_weight=0.001 will be ignored. Current value: min_sum_hessian_in_leaf=0\n",
      "[LightGBM] [Warning] bagging_fraction is set=0.4586, subsample=1.0 will be ignored. Current value: bagging_fraction=0.4586\n",
      "[LightGBM] [Warning] bagging_freq is set=1, subsample_freq=0 will be ignored. Current value: bagging_freq=1\n",
      "[LightGBM] [Warning] feature_fraction is set=0.24, colsample_bytree=1.0 will be ignored. Current value: feature_fraction=0.24\n",
      "[LightGBM] [Warning] min_data_in_leaf is set=4, min_child_samples=20 will be ignored. Current value: min_data_in_leaf=4\n",
      "[LightGBM] [Warning] min_sum_hessian_in_leaf is set=0, min_child_weight=0.001 will be ignored. Current value: min_sum_hessian_in_leaf=0\n",
      "[LightGBM] [Warning] bagging_fraction is set=0.4586, subsample=1.0 will be ignored. Current value: bagging_fraction=0.4586\n",
      "[LightGBM] [Warning] bagging_freq is set=1, subsample_freq=0 will be ignored. Current value: bagging_freq=1\n",
      "[LightGBM] [Warning] feature_fraction is set=0.24, colsample_bytree=1.0 will be ignored. Current value: feature_fraction=0.24\n",
      "[LightGBM] [Warning] min_data_in_leaf is set=4, min_child_samples=20 will be ignored. Current value: min_data_in_leaf=4\n",
      "[LightGBM] [Warning] min_sum_hessian_in_leaf is set=0, min_child_weight=0.001 will be ignored. Current value: min_sum_hessian_in_leaf=0\n",
      "[LightGBM] [Warning] bagging_fraction is set=0.4586, subsample=1.0 will be ignored. Current value: bagging_fraction=0.4586\n",
      "[LightGBM] [Warning] bagging_freq is set=1, subsample_freq=0 will be ignored. Current value: bagging_freq=1\n",
      "[LightGBM] [Warning] feature_fraction is set=0.24, colsample_bytree=1.0 will be ignored. Current value: feature_fraction=0.24\n",
      "[LightGBM] [Warning] min_data_in_leaf is set=4, min_child_samples=20 will be ignored. Current value: min_data_in_leaf=4\n",
      "[LightGBM] [Warning] min_sum_hessian_in_leaf is set=0, min_child_weight=0.001 will be ignored. Current value: min_sum_hessian_in_leaf=0\n",
      "[LightGBM] [Warning] bagging_fraction is set=0.4586, subsample=1.0 will be ignored. Current value: bagging_fraction=0.4586\n",
      "[LightGBM] [Warning] bagging_freq is set=1, subsample_freq=0 will be ignored. Current value: bagging_freq=1\n",
      "[LightGBM] [Warning] feature_fraction is set=0.24, colsample_bytree=1.0 will be ignored. Current value: feature_fraction=0.24\n",
      "[LightGBM] [Warning] min_data_in_leaf is set=4, min_child_samples=20 will be ignored. Current value: min_data_in_leaf=4\n",
      "[LightGBM] [Warning] min_sum_hessian_in_leaf is set=0, min_child_weight=0.001 will be ignored. Current value: min_sum_hessian_in_leaf=0\n",
      "[LightGBM] [Warning] bagging_fraction is set=0.4586, subsample=1.0 will be ignored. Current value: bagging_fraction=0.4586\n",
      "[LightGBM] [Warning] bagging_freq is set=1, subsample_freq=0 will be ignored. Current value: bagging_freq=1\n",
      "[07:29:06] WARNING: C:\\buildkite-agent\\builds\\buildkite-windows-cpu-autoscaling-group-i-07593ffd91cd9da33-1\\xgboost\\xgboost-ci-windows\\src\\learner.cc:767: \n",
      "Parameters: { \"bagging_fraction\", \"bagging_freq\", \"bagging_seed\", \"feature_fraction_seed\", \"min_data_in_leaf\", \"min_sum_hessian_in_leaf\", \"num_leaves\" } are not used.\n",
      "\n",
      "[07:29:07] WARNING: C:\\buildkite-agent\\builds\\buildkite-windows-cpu-autoscaling-group-i-07593ffd91cd9da33-1\\xgboost\\xgboost-ci-windows\\src\\learner.cc:767: \n",
      "Parameters: { \"bagging_fraction\", \"bagging_freq\", \"bagging_seed\", \"feature_fraction_seed\", \"min_data_in_leaf\", \"min_sum_hessian_in_leaf\", \"num_leaves\" } are not used.\n",
      "\n",
      "[07:29:08] WARNING: C:\\buildkite-agent\\builds\\buildkite-windows-cpu-autoscaling-group-i-07593ffd91cd9da33-1\\xgboost\\xgboost-ci-windows\\src\\learner.cc:767: \n",
      "Parameters: { \"bagging_fraction\", \"bagging_freq\", \"bagging_seed\", \"feature_fraction_seed\", \"min_data_in_leaf\", \"min_sum_hessian_in_leaf\", \"num_leaves\" } are not used.\n",
      "\n",
      "[07:29:09] WARNING: C:\\buildkite-agent\\builds\\buildkite-windows-cpu-autoscaling-group-i-07593ffd91cd9da33-1\\xgboost\\xgboost-ci-windows\\src\\learner.cc:767: \n",
      "Parameters: { \"bagging_fraction\", \"bagging_freq\", \"bagging_seed\", \"feature_fraction_seed\", \"min_data_in_leaf\", \"min_sum_hessian_in_leaf\", \"num_leaves\" } are not used.\n",
      "\n",
      "[07:29:09] WARNING: C:\\buildkite-agent\\builds\\buildkite-windows-cpu-autoscaling-group-i-07593ffd91cd9da33-1\\xgboost\\xgboost-ci-windows\\src\\learner.cc:767: \n",
      "Parameters: { \"bagging_fraction\", \"bagging_freq\", \"bagging_seed\", \"feature_fraction_seed\", \"min_data_in_leaf\", \"min_sum_hessian_in_leaf\", \"num_leaves\" } are not used.\n",
      "\n",
      "[LightGBM] [Warning] feature_fraction is set=0.24, colsample_bytree=1.0 will be ignored. Current value: feature_fraction=0.24\n",
      "[LightGBM] [Warning] min_data_in_leaf is set=4, min_child_samples=20 will be ignored. Current value: min_data_in_leaf=4\n",
      "[LightGBM] [Warning] min_sum_hessian_in_leaf is set=0, min_child_weight=0.001 will be ignored. Current value: min_sum_hessian_in_leaf=0\n",
      "[LightGBM] [Warning] bagging_fraction is set=0.4586, subsample=1.0 will be ignored. Current value: bagging_fraction=0.4586\n",
      "[LightGBM] [Warning] bagging_freq is set=1, subsample_freq=0 will be ignored. Current value: bagging_freq=1\n",
      "[LightGBM] [Warning] feature_fraction is set=0.24, colsample_bytree=1.0 will be ignored. Current value: feature_fraction=0.24\n",
      "[LightGBM] [Warning] min_data_in_leaf is set=4, min_child_samples=20 will be ignored. Current value: min_data_in_leaf=4\n",
      "[LightGBM] [Warning] min_sum_hessian_in_leaf is set=0, min_child_weight=0.001 will be ignored. Current value: min_sum_hessian_in_leaf=0\n",
      "[LightGBM] [Warning] bagging_fraction is set=0.4586, subsample=1.0 will be ignored. Current value: bagging_fraction=0.4586\n",
      "[LightGBM] [Warning] bagging_freq is set=1, subsample_freq=0 will be ignored. Current value: bagging_freq=1\n",
      "[LightGBM] [Warning] feature_fraction is set=0.24, colsample_bytree=1.0 will be ignored. Current value: feature_fraction=0.24\n",
      "[LightGBM] [Warning] min_data_in_leaf is set=4, min_child_samples=20 will be ignored. Current value: min_data_in_leaf=4\n",
      "[LightGBM] [Warning] min_sum_hessian_in_leaf is set=0, min_child_weight=0.001 will be ignored. Current value: min_sum_hessian_in_leaf=0\n",
      "[LightGBM] [Warning] bagging_fraction is set=0.4586, subsample=1.0 will be ignored. Current value: bagging_fraction=0.4586\n",
      "[LightGBM] [Warning] bagging_freq is set=1, subsample_freq=0 will be ignored. Current value: bagging_freq=1\n",
      "[LightGBM] [Warning] feature_fraction is set=0.24, colsample_bytree=1.0 will be ignored. Current value: feature_fraction=0.24\n",
      "[LightGBM] [Warning] min_data_in_leaf is set=4, min_child_samples=20 will be ignored. Current value: min_data_in_leaf=4\n",
      "[LightGBM] [Warning] min_sum_hessian_in_leaf is set=0, min_child_weight=0.001 will be ignored. Current value: min_sum_hessian_in_leaf=0\n",
      "[LightGBM] [Warning] bagging_fraction is set=0.4586, subsample=1.0 will be ignored. Current value: bagging_fraction=0.4586\n",
      "[LightGBM] [Warning] bagging_freq is set=1, subsample_freq=0 will be ignored. Current value: bagging_freq=1\n",
      "[LightGBM] [Warning] feature_fraction is set=0.24, colsample_bytree=1.0 will be ignored. Current value: feature_fraction=0.24\n",
      "[LightGBM] [Warning] min_data_in_leaf is set=4, min_child_samples=20 will be ignored. Current value: min_data_in_leaf=4\n",
      "[LightGBM] [Warning] min_sum_hessian_in_leaf is set=0, min_child_weight=0.001 will be ignored. Current value: min_sum_hessian_in_leaf=0\n",
      "[LightGBM] [Warning] bagging_fraction is set=0.4586, subsample=1.0 will be ignored. Current value: bagging_fraction=0.4586\n",
      "[LightGBM] [Warning] bagging_freq is set=1, subsample_freq=0 will be ignored. Current value: bagging_freq=1\n",
      "[07:29:12] WARNING: C:\\buildkite-agent\\builds\\buildkite-windows-cpu-autoscaling-group-i-07593ffd91cd9da33-1\\xgboost\\xgboost-ci-windows\\src\\learner.cc:767: \n",
      "Parameters: { \"bagging_fraction\", \"bagging_freq\", \"bagging_seed\", \"feature_fraction_seed\", \"min_data_in_leaf\", \"min_sum_hessian_in_leaf\", \"num_leaves\" } are not used.\n",
      "\n",
      "[07:29:13] WARNING: C:\\buildkite-agent\\builds\\buildkite-windows-cpu-autoscaling-group-i-07593ffd91cd9da33-1\\xgboost\\xgboost-ci-windows\\src\\learner.cc:767: \n",
      "Parameters: { \"bagging_fraction\", \"bagging_freq\", \"bagging_seed\", \"feature_fraction_seed\", \"min_data_in_leaf\", \"min_sum_hessian_in_leaf\", \"num_leaves\" } are not used.\n",
      "\n",
      "[07:29:13] WARNING: C:\\buildkite-agent\\builds\\buildkite-windows-cpu-autoscaling-group-i-07593ffd91cd9da33-1\\xgboost\\xgboost-ci-windows\\src\\learner.cc:767: \n",
      "Parameters: { \"bagging_fraction\", \"bagging_freq\", \"bagging_seed\", \"feature_fraction_seed\", \"min_data_in_leaf\", \"min_sum_hessian_in_leaf\", \"num_leaves\" } are not used.\n",
      "\n",
      "[07:29:14] WARNING: C:\\buildkite-agent\\builds\\buildkite-windows-cpu-autoscaling-group-i-07593ffd91cd9da33-1\\xgboost\\xgboost-ci-windows\\src\\learner.cc:767: \n",
      "Parameters: { \"bagging_fraction\", \"bagging_freq\", \"bagging_seed\", \"feature_fraction_seed\", \"min_data_in_leaf\", \"min_sum_hessian_in_leaf\", \"num_leaves\" } are not used.\n",
      "\n",
      "[07:29:15] WARNING: C:\\buildkite-agent\\builds\\buildkite-windows-cpu-autoscaling-group-i-07593ffd91cd9da33-1\\xgboost\\xgboost-ci-windows\\src\\learner.cc:767: \n",
      "Parameters: { \"bagging_fraction\", \"bagging_freq\", \"bagging_seed\", \"feature_fraction_seed\", \"min_data_in_leaf\", \"min_sum_hessian_in_leaf\", \"num_leaves\" } are not used.\n",
      "\n",
      "[LightGBM] [Warning] feature_fraction is set=0.24, colsample_bytree=1.0 will be ignored. Current value: feature_fraction=0.24\n",
      "[LightGBM] [Warning] min_data_in_leaf is set=4, min_child_samples=20 will be ignored. Current value: min_data_in_leaf=4\n",
      "[LightGBM] [Warning] min_sum_hessian_in_leaf is set=0, min_child_weight=0.001 will be ignored. Current value: min_sum_hessian_in_leaf=0\n",
      "[LightGBM] [Warning] bagging_fraction is set=0.4586, subsample=1.0 will be ignored. Current value: bagging_fraction=0.4586\n",
      "[LightGBM] [Warning] bagging_freq is set=1, subsample_freq=0 will be ignored. Current value: bagging_freq=1\n",
      "[LightGBM] [Warning] feature_fraction is set=0.24, colsample_bytree=1.0 will be ignored. Current value: feature_fraction=0.24\n",
      "[LightGBM] [Warning] min_data_in_leaf is set=4, min_child_samples=20 will be ignored. Current value: min_data_in_leaf=4\n",
      "[LightGBM] [Warning] min_sum_hessian_in_leaf is set=0, min_child_weight=0.001 will be ignored. Current value: min_sum_hessian_in_leaf=0\n",
      "[LightGBM] [Warning] bagging_fraction is set=0.4586, subsample=1.0 will be ignored. Current value: bagging_fraction=0.4586\n",
      "[LightGBM] [Warning] bagging_freq is set=1, subsample_freq=0 will be ignored. Current value: bagging_freq=1\n",
      "[LightGBM] [Warning] feature_fraction is set=0.24, colsample_bytree=1.0 will be ignored. Current value: feature_fraction=0.24\n",
      "[LightGBM] [Warning] min_data_in_leaf is set=4, min_child_samples=20 will be ignored. Current value: min_data_in_leaf=4\n",
      "[LightGBM] [Warning] min_sum_hessian_in_leaf is set=0, min_child_weight=0.001 will be ignored. Current value: min_sum_hessian_in_leaf=0\n",
      "[LightGBM] [Warning] bagging_fraction is set=0.4586, subsample=1.0 will be ignored. Current value: bagging_fraction=0.4586\n",
      "[LightGBM] [Warning] bagging_freq is set=1, subsample_freq=0 will be ignored. Current value: bagging_freq=1\n",
      "[LightGBM] [Warning] feature_fraction is set=0.24, colsample_bytree=1.0 will be ignored. Current value: feature_fraction=0.24\n",
      "[LightGBM] [Warning] min_data_in_leaf is set=4, min_child_samples=20 will be ignored. Current value: min_data_in_leaf=4\n",
      "[LightGBM] [Warning] min_sum_hessian_in_leaf is set=0, min_child_weight=0.001 will be ignored. Current value: min_sum_hessian_in_leaf=0\n",
      "[LightGBM] [Warning] bagging_fraction is set=0.4586, subsample=1.0 will be ignored. Current value: bagging_fraction=0.4586\n",
      "[LightGBM] [Warning] bagging_freq is set=1, subsample_freq=0 will be ignored. Current value: bagging_freq=1\n",
      "[LightGBM] [Warning] feature_fraction is set=0.24, colsample_bytree=1.0 will be ignored. Current value: feature_fraction=0.24\n",
      "[LightGBM] [Warning] min_data_in_leaf is set=4, min_child_samples=20 will be ignored. Current value: min_data_in_leaf=4\n",
      "[LightGBM] [Warning] min_sum_hessian_in_leaf is set=0, min_child_weight=0.001 will be ignored. Current value: min_sum_hessian_in_leaf=0\n",
      "[LightGBM] [Warning] bagging_fraction is set=0.4586, subsample=1.0 will be ignored. Current value: bagging_fraction=0.4586\n",
      "[LightGBM] [Warning] bagging_freq is set=1, subsample_freq=0 will be ignored. Current value: bagging_freq=1\n",
      "[07:29:18] WARNING: C:\\buildkite-agent\\builds\\buildkite-windows-cpu-autoscaling-group-i-07593ffd91cd9da33-1\\xgboost\\xgboost-ci-windows\\src\\learner.cc:767: \n",
      "Parameters: { \"bagging_fraction\", \"bagging_freq\", \"bagging_seed\", \"feature_fraction_seed\", \"min_data_in_leaf\", \"min_sum_hessian_in_leaf\", \"num_leaves\" } are not used.\n",
      "\n",
      "[07:29:18] WARNING: C:\\buildkite-agent\\builds\\buildkite-windows-cpu-autoscaling-group-i-07593ffd91cd9da33-1\\xgboost\\xgboost-ci-windows\\src\\learner.cc:767: \n",
      "Parameters: { \"bagging_fraction\", \"bagging_freq\", \"bagging_seed\", \"feature_fraction_seed\", \"min_data_in_leaf\", \"min_sum_hessian_in_leaf\", \"num_leaves\" } are not used.\n",
      "\n",
      "[07:29:19] WARNING: C:\\buildkite-agent\\builds\\buildkite-windows-cpu-autoscaling-group-i-07593ffd91cd9da33-1\\xgboost\\xgboost-ci-windows\\src\\learner.cc:767: \n",
      "Parameters: { \"bagging_fraction\", \"bagging_freq\", \"bagging_seed\", \"feature_fraction_seed\", \"min_data_in_leaf\", \"min_sum_hessian_in_leaf\", \"num_leaves\" } are not used.\n",
      "\n",
      "[07:29:20] WARNING: C:\\buildkite-agent\\builds\\buildkite-windows-cpu-autoscaling-group-i-07593ffd91cd9da33-1\\xgboost\\xgboost-ci-windows\\src\\learner.cc:767: \n",
      "Parameters: { \"bagging_fraction\", \"bagging_freq\", \"bagging_seed\", \"feature_fraction_seed\", \"min_data_in_leaf\", \"min_sum_hessian_in_leaf\", \"num_leaves\" } are not used.\n",
      "\n",
      "[07:29:21] WARNING: C:\\buildkite-agent\\builds\\buildkite-windows-cpu-autoscaling-group-i-07593ffd91cd9da33-1\\xgboost\\xgboost-ci-windows\\src\\learner.cc:767: \n",
      "Parameters: { \"bagging_fraction\", \"bagging_freq\", \"bagging_seed\", \"feature_fraction_seed\", \"min_data_in_leaf\", \"min_sum_hessian_in_leaf\", \"num_leaves\" } are not used.\n",
      "\n",
      "[LightGBM] [Warning] feature_fraction is set=0.24, colsample_bytree=1.0 will be ignored. Current value: feature_fraction=0.24\n",
      "[LightGBM] [Warning] min_data_in_leaf is set=4, min_child_samples=20 will be ignored. Current value: min_data_in_leaf=4\n",
      "[LightGBM] [Warning] min_sum_hessian_in_leaf is set=0, min_child_weight=0.001 will be ignored. Current value: min_sum_hessian_in_leaf=0\n",
      "[LightGBM] [Warning] bagging_fraction is set=0.4586, subsample=1.0 will be ignored. Current value: bagging_fraction=0.4586\n",
      "[LightGBM] [Warning] bagging_freq is set=1, subsample_freq=0 will be ignored. Current value: bagging_freq=1\n",
      "[LightGBM] [Warning] feature_fraction is set=0.24, colsample_bytree=1.0 will be ignored. Current value: feature_fraction=0.24\n",
      "[LightGBM] [Warning] min_data_in_leaf is set=4, min_child_samples=20 will be ignored. Current value: min_data_in_leaf=4\n",
      "[LightGBM] [Warning] min_sum_hessian_in_leaf is set=0, min_child_weight=0.001 will be ignored. Current value: min_sum_hessian_in_leaf=0\n",
      "[LightGBM] [Warning] bagging_fraction is set=0.4586, subsample=1.0 will be ignored. Current value: bagging_fraction=0.4586\n",
      "[LightGBM] [Warning] bagging_freq is set=1, subsample_freq=0 will be ignored. Current value: bagging_freq=1\n",
      "[LightGBM] [Warning] feature_fraction is set=0.24, colsample_bytree=1.0 will be ignored. Current value: feature_fraction=0.24\n",
      "[LightGBM] [Warning] min_data_in_leaf is set=4, min_child_samples=20 will be ignored. Current value: min_data_in_leaf=4\n",
      "[LightGBM] [Warning] min_sum_hessian_in_leaf is set=0, min_child_weight=0.001 will be ignored. Current value: min_sum_hessian_in_leaf=0\n",
      "[LightGBM] [Warning] bagging_fraction is set=0.4586, subsample=1.0 will be ignored. Current value: bagging_fraction=0.4586\n",
      "[LightGBM] [Warning] bagging_freq is set=1, subsample_freq=0 will be ignored. Current value: bagging_freq=1\n",
      "[LightGBM] [Warning] feature_fraction is set=0.24, colsample_bytree=1.0 will be ignored. Current value: feature_fraction=0.24\n",
      "[LightGBM] [Warning] min_data_in_leaf is set=4, min_child_samples=20 will be ignored. Current value: min_data_in_leaf=4\n",
      "[LightGBM] [Warning] min_sum_hessian_in_leaf is set=0, min_child_weight=0.001 will be ignored. Current value: min_sum_hessian_in_leaf=0\n",
      "[LightGBM] [Warning] bagging_fraction is set=0.4586, subsample=1.0 will be ignored. Current value: bagging_fraction=0.4586\n",
      "[LightGBM] [Warning] bagging_freq is set=1, subsample_freq=0 will be ignored. Current value: bagging_freq=1\n",
      "[LightGBM] [Warning] feature_fraction is set=0.24, colsample_bytree=1.0 will be ignored. Current value: feature_fraction=0.24\n",
      "[LightGBM] [Warning] min_data_in_leaf is set=4, min_child_samples=20 will be ignored. Current value: min_data_in_leaf=4\n",
      "[LightGBM] [Warning] min_sum_hessian_in_leaf is set=0, min_child_weight=0.001 will be ignored. Current value: min_sum_hessian_in_leaf=0\n",
      "[LightGBM] [Warning] bagging_fraction is set=0.4586, subsample=1.0 will be ignored. Current value: bagging_fraction=0.4586\n",
      "[LightGBM] [Warning] bagging_freq is set=1, subsample_freq=0 will be ignored. Current value: bagging_freq=1\n"
     ]
    },
    {
     "data": {
      "text/plain": [
       "0.11212280677867392"
      ]
     },
     "execution_count": 93,
     "metadata": {},
     "output_type": "execute_result"
    }
   ],
   "source": [
    "stacked_avg_models = StackingAveragedModels(base_models = (ridge, lasso, xgb, lgb),\n",
    "                                            meta_model = ridge)\n",
    "getRMSLE(stacked_avg_models)"
   ]
  },
  {
   "attachments": {},
   "cell_type": "markdown",
   "metadata": {},
   "source": [
    "# 2. Write submission"
   ]
  },
  {
   "attachments": {},
   "cell_type": "markdown",
   "metadata": {},
   "source": [
    "Ta thấy, mô hình kết hợp Bagging - Average models cho ra kết quả tốt nhất trong tất cả mô hình.\n",
    "\n",
    "Do đó, ta sẽ dùng mô hình Bagging để dự đoán giá nhà của bộ dữ liệu test."
   ]
  },
  {
   "cell_type": "code",
   "execution_count": 88,
   "metadata": {},
   "outputs": [
    {
     "name": "stdout",
     "output_type": "stream",
     "text": [
      "[07:27:33] WARNING: C:\\buildkite-agent\\builds\\buildkite-windows-cpu-autoscaling-group-i-07593ffd91cd9da33-1\\xgboost\\xgboost-ci-windows\\src\\learner.cc:767: \n",
      "Parameters: { \"bagging_fraction\", \"bagging_freq\", \"bagging_seed\", \"feature_fraction_seed\", \"min_data_in_leaf\", \"min_sum_hessian_in_leaf\", \"num_leaves\" } are not used.\n",
      "\n",
      "[LightGBM] [Warning] feature_fraction is set=0.24, colsample_bytree=1.0 will be ignored. Current value: feature_fraction=0.24\n",
      "[LightGBM] [Warning] min_data_in_leaf is set=4, min_child_samples=20 will be ignored. Current value: min_data_in_leaf=4\n",
      "[LightGBM] [Warning] min_sum_hessian_in_leaf is set=0, min_child_weight=0.001 will be ignored. Current value: min_sum_hessian_in_leaf=0\n",
      "[LightGBM] [Warning] bagging_fraction is set=0.4586, subsample=1.0 will be ignored. Current value: bagging_fraction=0.4586\n",
      "[LightGBM] [Warning] bagging_freq is set=1, subsample_freq=0 will be ignored. Current value: bagging_freq=1\n"
     ]
    }
   ],
   "source": [
    "my_model = avg_model\n",
    "my_model.fit(X_train, y)\n",
    "y_pred = my_model.predict(test_data)"
   ]
  },
  {
   "cell_type": "code",
   "execution_count": 89,
   "metadata": {},
   "outputs": [],
   "source": [
    "predictions = np.exp(y_pred) - 1\n",
    "output = pd.DataFrame({'Id': test_data.index, 'SalePrice': predictions})\n",
    "output.to_csv('submission.csv', index=False)"
   ]
  }
 ],
 "metadata": {
  "kernelspec": {
   "display_name": "ai",
   "language": "python",
   "name": "python3"
  },
  "language_info": {
   "codemirror_mode": {
    "name": "ipython",
    "version": 3
   },
   "file_extension": ".py",
   "mimetype": "text/x-python",
   "name": "python",
   "nbconvert_exporter": "python",
   "pygments_lexer": "ipython3",
   "version": "3.10.10"
  },
  "orig_nbformat": 4
 },
 "nbformat": 4,
 "nbformat_minor": 2
}
