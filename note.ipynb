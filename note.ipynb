{
 "cells": [
  {
   "cell_type": "code",
   "execution_count": 35,
   "metadata": {},
   "outputs": [],
   "source": [
    "import pandas as pd\n",
    "\n",
    "#expand all columns\n",
    "pd.set_option('display.max_rows', 500)\n",
    "pd.set_option('display.max_columns', 500)\n",
    "pd.set_option('display.width', 1000)"
   ]
  },
  {
   "cell_type": "code",
   "execution_count": 36,
   "metadata": {},
   "outputs": [],
   "source": [
    "test_df = pd.read_csv(\"test.csv\")\n",
    "train_df = pd.read_csv(\"train.csv\")"
   ]
  },
  {
   "attachments": {},
   "cell_type": "markdown",
   "metadata": {},
   "source": [
    "### Data Surveying\n"
   ]
  },
  {
   "cell_type": "code",
   "execution_count": 37,
   "metadata": {},
   "outputs": [
    {
     "name": "stdout",
     "output_type": "stream",
     "text": [
      "LotFrontage has null value\n",
      "Alley has null value\n",
      "MasVnrType has null value\n",
      "MasVnrArea has null value\n",
      "BsmtQual has null value\n",
      "BsmtCond has null value\n",
      "BsmtExposure has null value\n",
      "BsmtFinType1 has null value\n",
      "BsmtFinType2 has null value\n",
      "Electrical has null value\n",
      "FireplaceQu has null value\n",
      "GarageType has null value\n",
      "GarageYrBlt has null value\n",
      "GarageFinish has null value\n",
      "GarageQual has null value\n",
      "GarageCond has null value\n",
      "PoolQC has null value\n",
      "Fence has null value\n",
      "MiscFeature has null value\n"
     ]
    }
   ],
   "source": [
    "# train_data.isnull().values.any()\n",
    "for column in train_df:\n",
    "    if train_df[column].isnull().values.any() == True:\n",
    "        print(column, \"has null value\")"
   ]
  },
  {
   "attachments": {},
   "cell_type": "markdown",
   "metadata": {},
   "source": [
    "__Data cleaning__: involves removing or correcting missing value or any errors or inconsistents in data\\\n",
    "__Data transforming__: contains the works normalization, standardisation, converting of categoricals to numericals\\\n",
    "__Data reduction__: reducing the size of dataset by selecting a presentative subset of the data or using `feature selection techniques` to select the most important variables\\\n",
    "__Data normalization__: involves scaling the data so that it falls within a specific range"
   ]
  },
  {
   "attachments": {},
   "cell_type": "markdown",
   "metadata": {},
   "source": [
    "## __Data Preprocessing__"
   ]
  },
  {
   "cell_type": "code",
   "execution_count": 40,
   "metadata": {},
   "outputs": [],
   "source": [
    "# Fill Na values for Lot Frontage (numerical)\n",
    "train_df['LotFrontage'] = train_df.groupby('Neighborhood')['LotFrontage'].transform(lambda x: x.fillna(x.median()))\n",
    "# Fill Na values for Alley (categorical)\n",
    "train_df['Alley'] =  train_df['Alley'].fillna('None')\n",
    "# Fill Na values for MasVnrType (categorical)\n",
    "train_df['MasVnrType'] = train_df['MasVnrType'].fillna('None')\n",
    "# Fill Na values for MasVnrArea (numerical)\n",
    "train_df['MasVnrArea'] = train_df['MasVnrArea'].fillna(0)\n",
    "# Fill Na values for BsmtQual (categorical)\n",
    "train_df['BsmtQual'] = train_df['BsmtQual'].fillna('None')\n",
    "# Fill Na values for BsmtCond (categorical)\n",
    "train_df['BsmtCond'] = train_df['BsmtCond'].fillna('None')\n",
    "# Fill Na values for BsmtExposure (categorical)\n",
    "train_df['BsmtExposure'] = train_df['BsmtExposure'].fillna('None')\n",
    "# Fill Na values for BsmtFinType1 (categorical)\n",
    "train_df['BsmtFinType1'] = train_df['BsmtFinType1'].fillna('None')\n",
    "# Fill Na values for BsmtFinType2 (categorical)\n",
    "train_df['BsmtFinType2'] = train_df['BsmtFinType2'].fillna('None')\n",
    "# Fill Na values for Electrical (categorical)\n",
    "train_df['Electrical'] = train_df['Electrical'].fillna('None')\n",
    "# Fill Na values for FireplaceQu (categorical)\n",
    "train_df['FireplaceQu'] = train_df['FireplaceQu'].fillna('None')\n",
    "# Fill Na values for GarageType (categorical)\n",
    "train_df['GarageType'] = train_df['GarageType'].fillna('None')\n",
    "# Fill Na values for GarageYrBlt (numerical)\n",
    "train_df['GarageYrBlt'] = train_df['GarageYrBlt'].fillna(0)\n",
    "# Fill Na values for GarageFinish (categorical)\n",
    "train_df['GarageFinish'] = train_df['GarageFinish'].fillna('None')\n",
    "# Fill Na values for GarageQual (categorical)\n",
    "train_df['GarageQual'] = train_df['GarageQual'].fillna('None')\n",
    "# Fill Na values for GarageCond (categorical)\n",
    "train_df['GarageCond'] = train_df['GarageCond'].fillna('None')\n",
    "# Fill Na values for PoolQC (categorical)\n",
    "train_df['PoolQC'] = train_df['PoolQC'].fillna('None')\n",
    "# Fill Na values for Fence (categorical)\n",
    "train_df['Fence'] = train_df['Fence'].fillna('None')\n",
    "# Fill Na values for MiscFeature (categorical)\n",
    "train_df['MiscFeature'] = train_df['MiscFeature'].fillna('None')"
   ]
  },
  {
   "cell_type": "code",
   "execution_count": 42,
   "metadata": {},
   "outputs": [
    {
     "data": {
      "text/plain": [
       "False"
      ]
     },
     "execution_count": 42,
     "metadata": {},
     "output_type": "execute_result"
    },
    {
     "name": "stderr",
     "output_type": "stream",
     "text": [
      "Bad pipe message: %s [b'\\xa3\\xec']\n",
      "Bad pipe message: %s [b'\\xd9eJ\\x13(\\xcc']\n",
      "Bad pipe message: %s [b',\\xc3o\\xf8\\xec\\xc3I\\xdd\\x87\\xc8t\\xed\\xaa\\xf1|\\xad\\x1e\\x87\\x00\\x00\\xf4\\xc00\\xc0,\\xc0(\\xc0$\\xc0\\x14\\xc0\\n\\x00\\xa5\\x00\\xa3\\x00\\xa1\\x00\\x9f\\x00k\\x00j\\x00', b\"h\\x009\\x008\\x007\\x006\\x00\\x88\\x00\\x87\\x00\\x86\\x00\\x85\\xc0\\x19\\x00\\xa7\\x00m\\x00:\\x00\\x89\\xc02\\xc0.\\xc0*\\xc0&\\xc0\\x0f\\xc0\\x05\\x00\\x9d\\x00=\\x005\\x00\\x84\\xc0/\\xc0+\\xc0'\\xc0#\\xc0\\x13\\xc0\\t\\x00\\xa4\\x00\\xa2\\x00\\xa0\\x00\\x9e\\x00g\\x00@\\x00?\\x00>\\x003\\x002\\x001\\x000\\x00\\x9a\\x00\\x99\\x00\\x98\\x00\\x97\\x00E\\x00D\\x00C\\x00B\\xc0\\x18\\x00\\xa6\\x00\"]\n",
      "Bad pipe message: %s [b'4\\x00\\x9b\\x00F\\xc01\\xc0-\\xc0)\\xc0%\\xc0\\x0e\\xc0\\x04\\x00\\x9c\\x00<\\x00/\\x00\\x96\\x00A\\x00\\x07\\xc0\\x11\\xc0\\x07\\xc0\\x16\\x00\\x18\\xc0\\x0c\\xc0\\x02\\x00\\x05\\x00\\x04\\xc0\\x12\\xc0\\x08\\x00\\x16\\x00\\x13\\x00\\x10\\x00\\r\\xc0\\x17\\x00\\x1b\\xc0\\r\\xc0\\x03\\x00\\n\\x00\\x15\\x00\\x12\\x00\\x0f\\x00\\x0c\\x00\\x1a\\x00\\t\\x00\\x14\\x00\\x11\\x00\\x19\\x00\\x08\\x00\\x06\\x00\\x17\\x00\\x03\\xc0\\x10\\xc0\\x06\\xc0\\x15\\xc0\\x0b\\xc0\\x01\\x00;\\x00\\x02']\n"
     ]
    }
   ],
   "source": [
    "train_df.isnull().values.any()"
   ]
  }
 ],
 "metadata": {
  "kernelspec": {
   "display_name": "Python 3",
   "language": "python",
   "name": "python3"
  },
  "language_info": {
   "codemirror_mode": {
    "name": "ipython",
    "version": 3
   },
   "file_extension": ".py",
   "mimetype": "text/x-python",
   "name": "python",
   "nbconvert_exporter": "python",
   "pygments_lexer": "ipython3",
   "version": "3.10.4"
  },
  "orig_nbformat": 4
 },
 "nbformat": 4,
 "nbformat_minor": 2
}
