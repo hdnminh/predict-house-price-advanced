{
 "cells": [
  {
   "cell_type": "code",
   "execution_count": 1,
   "metadata": {},
   "outputs": [],
   "source": [
    "import pandas as pd\n",
    "import numpy as np\n",
    "\n",
    "import warnings\n",
    "warnings.filterwarnings('ignore')"
   ]
  },
  {
   "cell_type": "code",
   "execution_count": 2,
   "metadata": {},
   "outputs": [],
   "source": [
    "train_df = pd.read_csv('../preprocessing_data/preprocessed_train.csv').drop('Id', axis= 1)\n",
    "test_df = pd.read_csv('../preprocessing_data/preprocessed_test.csv').drop('Id', axis= 1)\n",
    "X = np.array(train_df.drop(['SalePrice'], axis = 1).values)\n",
    "y = np.log1p(np.array(train_df['SalePrice'].values))\n",
    "X_test = np.array(test_df.values)"
   ]
  },
  {
   "cell_type": "code",
   "execution_count": 3,
   "metadata": {},
   "outputs": [],
   "source": [
    "from bayes_opt import BayesianOptimization\n",
    "from sklearn.linear_model import Lasso\n",
    "from sklearn.model_selection import cross_val_score, train_test_split\n",
    "from sklearn.metrics import get_scorer, mean_squared_error\n",
    "import time"
   ]
  },
  {
   "cell_type": "code",
   "execution_count": 4,
   "metadata": {},
   "outputs": [],
   "source": [
    "def rmse(y_true, y_pred):\n",
    "    return np.sqrt(mean_squared_error(y_true, y_pred))"
   ]
  },
  {
   "cell_type": "code",
   "execution_count": 5,
   "metadata": {},
   "outputs": [],
   "source": [
    "X_train, X_valid, y_train, y_valid = train_test_split(X, y, test_size= 0.2, random_state=42)"
   ]
  },
  {
   "cell_type": "code",
   "execution_count": 6,
   "metadata": {},
   "outputs": [
    {
     "name": "stdout",
     "output_type": "stream",
     "text": [
      "|   iter    |  target   |   alpha   | max_iter  |\n",
      "-------------------------------------------------\n",
      "| \u001b[0m1        \u001b[0m | \u001b[0m-0.1273  \u001b[0m | \u001b[0m0.006122 \u001b[0m | \u001b[0m1.338e+03\u001b[0m |\n",
      "| \u001b[95m2        \u001b[0m | \u001b[95m-0.1248  \u001b[0m | \u001b[95m0.004361 \u001b[0m | \u001b[95m2.539e+03\u001b[0m |\n",
      "| \u001b[95m3        \u001b[0m | \u001b[95m-0.1234  \u001b[0m | \u001b[95m0.002953 \u001b[0m | \u001b[95m1.298e+03\u001b[0m |\n",
      "| \u001b[95m4        \u001b[0m | \u001b[95m-0.1204  \u001b[0m | \u001b[95m0.0002248\u001b[0m | \u001b[95m1.84e+03 \u001b[0m |\n",
      "| \u001b[0m5        \u001b[0m | \u001b[0m-0.1223  \u001b[0m | \u001b[0m0.002387 \u001b[0m | \u001b[0m1.675e+03\u001b[0m |\n",
      "| \u001b[0m6        \u001b[0m | \u001b[0m-0.1321  \u001b[0m | \u001b[0m0.009907 \u001b[0m | \u001b[0m1.475e+03\u001b[0m |\n",
      "| \u001b[95m7        \u001b[0m | \u001b[95m-0.1178  \u001b[0m | \u001b[95m0.0008119\u001b[0m | \u001b[95m2.339e+03\u001b[0m |\n",
      "| \u001b[0m8        \u001b[0m | \u001b[0m-0.1275  \u001b[0m | \u001b[0m0.006212 \u001b[0m | \u001b[0m1.549e+03\u001b[0m |\n",
      "| \u001b[0m9        \u001b[0m | \u001b[0m-0.1252  \u001b[0m | \u001b[0m0.004662 \u001b[0m | \u001b[0m1.237e+03\u001b[0m |\n",
      "| \u001b[0m10       \u001b[0m | \u001b[0m-0.1179  \u001b[0m | \u001b[0m0.0007396\u001b[0m | \u001b[0m2.802e+03\u001b[0m |\n",
      "| \u001b[0m11       \u001b[0m | \u001b[0m-0.1296  \u001b[0m | \u001b[0m0.00794  \u001b[0m | \u001b[0m2.681e+03\u001b[0m |\n",
      "| \u001b[0m12       \u001b[0m | \u001b[0m-0.1299  \u001b[0m | \u001b[0m0.008152 \u001b[0m | \u001b[0m2.982e+03\u001b[0m |\n",
      "| \u001b[0m13       \u001b[0m | \u001b[0m-0.1268  \u001b[0m | \u001b[0m0.005773 \u001b[0m | \u001b[0m2.628e+03\u001b[0m |\n",
      "| \u001b[0m14       \u001b[0m | \u001b[0m-0.1246  \u001b[0m | \u001b[0m0.004213 \u001b[0m | \u001b[0m1.055e+03\u001b[0m |\n",
      "| \u001b[0m15       \u001b[0m | \u001b[0m-0.125   \u001b[0m | \u001b[0m0.004541 \u001b[0m | \u001b[0m1.211e+03\u001b[0m |\n",
      "| \u001b[0m16       \u001b[0m | \u001b[0m-0.1299  \u001b[0m | \u001b[0m0.008172 \u001b[0m | \u001b[0m2.395e+03\u001b[0m |\n",
      "| \u001b[0m17       \u001b[0m | \u001b[0m-0.1266  \u001b[0m | \u001b[0m0.005653 \u001b[0m | \u001b[0m1.548e+03\u001b[0m |\n",
      "| \u001b[0m18       \u001b[0m | \u001b[0m-0.1322  \u001b[0m | \u001b[0m0.009985 \u001b[0m | \u001b[0m1.276e+03\u001b[0m |\n",
      "| \u001b[0m19       \u001b[0m | \u001b[0m-0.1274  \u001b[0m | \u001b[0m0.006154 \u001b[0m | \u001b[0m1.97e+03 \u001b[0m |\n",
      "| \u001b[0m20       \u001b[0m | \u001b[0m-0.1243  \u001b[0m | \u001b[0m0.00405  \u001b[0m | \u001b[0m2.456e+03\u001b[0m |\n",
      "| \u001b[0m21       \u001b[0m | \u001b[0m-0.1179  \u001b[0m | \u001b[0m0.001046 \u001b[0m | \u001b[0m2.802e+03\u001b[0m |\n",
      "| \u001b[0m22       \u001b[0m | \u001b[0m-0.1259  \u001b[0m | \u001b[0m0.005197 \u001b[0m | \u001b[0m2.338e+03\u001b[0m |\n",
      "| \u001b[0m23       \u001b[0m | \u001b[0m-0.1285  \u001b[0m | \u001b[0m0.007002 \u001b[0m | \u001b[0m1.383e+03\u001b[0m |\n",
      "| \u001b[0m24       \u001b[0m | \u001b[0m-0.1245  \u001b[0m | \u001b[0m0.004174 \u001b[0m | \u001b[0m2.34e+03 \u001b[0m |\n",
      "=================================================\n",
      "It takes 0.009546832243601481 minutes\n"
     ]
    }
   ],
   "source": [
    "def lasso_cl_bo(alpha, max_iter):\n",
    "    params_lasso = {}\n",
    "    params_lasso['alpha'] = alpha\n",
    "    params_lasso['max_iter'] = round(max_iter)\n",
    "    \n",
    "    lasso = Lasso(random_state= 123, **params_lasso)\n",
    "    lasso.fit(X_train, y_train)\n",
    "\n",
    "    score = -rmse(y_valid, lasso.predict(X_valid))\n",
    "    return score\n",
    "\n",
    "# Run Bayesian Optimization\n",
    "start = time.time()\n",
    "params_lasso ={\n",
    "    'alpha':(0, 0.01),\n",
    "    'max_iter': (1000, 3000),\n",
    "}\n",
    "lasso_bo = BayesianOptimization(lasso_cl_bo, params_lasso, random_state=111)\n",
    "lasso_bo.maximize(init_points=20, n_iter=4)\n",
    "print('It takes %s minutes' % ((time.time() - start)/60))"
   ]
  },
  {
   "cell_type": "code",
   "execution_count": 9,
   "metadata": {},
   "outputs": [
    {
     "data": {
      "text/plain": [
       "0.11778937954176705"
      ]
     },
     "execution_count": 9,
     "metadata": {},
     "output_type": "execute_result"
    }
   ],
   "source": [
    "lasso = Lasso(alpha = 0.0008119, max_iter= 2339)\n",
    "lasso.fit(X_train, y_train)\n",
    "rmse(y_valid, lasso.predict(X_valid))"
   ]
  },
  {
   "cell_type": "code",
   "execution_count": 10,
   "metadata": {},
   "outputs": [
    {
     "name": "stdout",
     "output_type": "stream",
     "text": [
      "Error: 0.12630942885112117\n"
     ]
    }
   ],
   "source": [
    "ans = pd.read_csv('../submission/cheat.csv').drop('Id', axis = 1)\n",
    "ans = np.array(ans.values).reshape(1, -1)[0]\n",
    "y_pred = lasso.predict(X_test)\n",
    "print(f\"Error: {rmse(np.log1p(ans), y_pred)}\")"
   ]
  }
 ],
 "metadata": {
  "kernelspec": {
   "display_name": "Python 3",
   "language": "python",
   "name": "python3"
  },
  "language_info": {
   "codemirror_mode": {
    "name": "ipython",
    "version": 3
   },
   "file_extension": ".py",
   "mimetype": "text/x-python",
   "name": "python",
   "nbconvert_exporter": "python",
   "pygments_lexer": "ipython3",
   "version": "3.10.10"
  },
  "orig_nbformat": 4
 },
 "nbformat": 4,
 "nbformat_minor": 2
}
