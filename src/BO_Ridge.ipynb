{
 "cells": [
  {
   "cell_type": "code",
   "execution_count": 63,
   "metadata": {},
   "outputs": [],
   "source": [
    "import pandas as pd\n",
    "import numpy as np\n",
    "\n",
    "import warnings\n",
    "warnings.filterwarnings('ignore')"
   ]
  },
  {
   "cell_type": "code",
   "execution_count": 64,
   "metadata": {},
   "outputs": [],
   "source": [
    "train_df = pd.read_csv('../preprocessing_data/preprocessed_train.csv').drop('Id', axis= 1)\n",
    "test_df = pd.read_csv('../preprocessing_data/preprocessed_test.csv').drop('Id', axis= 1)\n",
    "X = np.array(train_df.drop(['SalePrice'], axis = 1).values)\n",
    "y = np.log1p(np.array(train_df['SalePrice'].values))\n",
    "X_test = np.array(test_df.values)"
   ]
  },
  {
   "cell_type": "code",
   "execution_count": 65,
   "metadata": {},
   "outputs": [],
   "source": [
    "from bayes_opt import BayesianOptimization\n",
    "from sklearn.linear_model import Ridge\n",
    "from sklearn.model_selection import cross_val_score, train_test_split\n",
    "from sklearn.metrics import get_scorer, mean_squared_error\n",
    "import time"
   ]
  },
  {
   "cell_type": "code",
   "execution_count": 66,
   "metadata": {},
   "outputs": [],
   "source": [
    "def rmse(y_true, y_pred):\n",
    "    return np.sqrt(mean_squared_error(y_true, y_pred))"
   ]
  },
  {
   "cell_type": "code",
   "execution_count": 67,
   "metadata": {},
   "outputs": [],
   "source": [
    "X_train, X_valid, y_train, y_valid = train_test_split(X, y, test_size= 0.2, random_state=42)"
   ]
  },
  {
   "cell_type": "code",
   "execution_count": 68,
   "metadata": {},
   "outputs": [
    {
     "name": "stdout",
     "output_type": "stream",
     "text": [
      "|   iter    |  target   |   alpha   | max_iter  |    tol    |\n",
      "-------------------------------------------------------------\n",
      "| \u001b[0m1        \u001b[0m | \u001b[0m-0.1203  \u001b[0m | \u001b[0m15.69    \u001b[0m | \u001b[0m1.338e+03\u001b[0m | \u001b[0m0.0004925\u001b[0m |\n",
      "| \u001b[0m2        \u001b[0m | \u001b[0m-0.1204  \u001b[0m | \u001b[0m19.46    \u001b[0m | \u001b[0m1.591e+03\u001b[0m | \u001b[0m0.0002342\u001b[0m |\n",
      "| \u001b[0m3        \u001b[0m | \u001b[0m-0.121   \u001b[0m | \u001b[0m1.539    \u001b[0m | \u001b[0m1.84e+03 \u001b[0m | \u001b[0m0.0003148\u001b[0m |\n",
      "| \u001b[95m4        \u001b[0m | \u001b[95m-0.1202  \u001b[0m | \u001b[95m9.104    \u001b[0m | \u001b[95m2.981e+03\u001b[0m | \u001b[95m0.000314 \u001b[0m |\n",
      "| \u001b[0m5        \u001b[0m | \u001b[0m-0.1207  \u001b[0m | \u001b[0m2.949    \u001b[0m | \u001b[0m2.339e+03\u001b[0m | \u001b[0m0.0006591\u001b[0m |\n",
      "| \u001b[0m6        \u001b[0m | \u001b[0m-0.1202  \u001b[0m | \u001b[0m7.582    \u001b[0m | \u001b[0m1.932e+03\u001b[0m | \u001b[0m0.0002065\u001b[0m |\n",
      "| \u001b[0m7        \u001b[0m | \u001b[0m-0.1207  \u001b[0m | \u001b[0m2.775    \u001b[0m | \u001b[0m2.802e+03\u001b[0m | \u001b[0m0.0008146\u001b[0m |\n",
      "| \u001b[0m8        \u001b[0m | \u001b[0m-0.1205  \u001b[0m | \u001b[0m21.17    \u001b[0m | \u001b[0m2.63e+03 \u001b[0m | \u001b[0m0.0009919\u001b[0m |\n",
      "| \u001b[0m9        \u001b[0m | \u001b[0m-0.1203  \u001b[0m | \u001b[0m14.85    \u001b[0m | \u001b[0m2.628e+03\u001b[0m | \u001b[0m0.0004792\u001b[0m |\n",
      "| \u001b[0m10       \u001b[0m | \u001b[0m-0.121   \u001b[0m | \u001b[0m1.659    \u001b[0m | \u001b[0m1.908e+03\u001b[0m | \u001b[0m0.0001948\u001b[0m |\n",
      "| \u001b[0m11       \u001b[0m | \u001b[0m-0.1205  \u001b[0m | \u001b[0m20.61    \u001b[0m | \u001b[0m2.395e+03\u001b[0m | \u001b[0m0.0006088\u001b[0m |\n",
      "| \u001b[0m12       \u001b[0m | \u001b[0m-0.1202  \u001b[0m | \u001b[0m7.581    \u001b[0m | \u001b[0m2.997e+03\u001b[0m | \u001b[0m0.0002242\u001b[0m |\n",
      "| \u001b[0m13       \u001b[0m | \u001b[0m-0.1203  \u001b[0m | \u001b[0m15.77    \u001b[0m | \u001b[0m1.97e+03 \u001b[0m | \u001b[0m0.0004645\u001b[0m |\n",
      "| \u001b[0m14       \u001b[0m | \u001b[0m-0.1204  \u001b[0m | \u001b[0m18.47    \u001b[0m | \u001b[0m1.646e+03\u001b[0m | \u001b[0m0.0004605\u001b[0m |\n",
      "| \u001b[0m15       \u001b[0m | \u001b[0m-0.1202  \u001b[0m | \u001b[0m8.655    \u001b[0m | \u001b[0m2.894e+03\u001b[0m | \u001b[0m0.0009268\u001b[0m |\n",
      "| \u001b[0m16       \u001b[0m | \u001b[0m-0.1205  \u001b[0m | \u001b[0m20.53    \u001b[0m | \u001b[0m1.068e+03\u001b[0m | \u001b[0m0.000949 \u001b[0m |\n",
      "| \u001b[0m17       \u001b[0m | \u001b[0m-0.1207  \u001b[0m | \u001b[0m23.81    \u001b[0m | \u001b[0m2.613e+03\u001b[0m | \u001b[0m0.0005332\u001b[0m |\n",
      "| \u001b[0m18       \u001b[0m | \u001b[0m-0.1207  \u001b[0m | \u001b[0m24.2     \u001b[0m | \u001b[0m1.834e+03\u001b[0m | \u001b[0m0.000387 \u001b[0m |\n",
      "| \u001b[0m19       \u001b[0m | \u001b[0m-0.1218  \u001b[0m | \u001b[0m1.395    \u001b[0m | \u001b[0m1.076e+03\u001b[0m | \u001b[0m0.0001478\u001b[0m |\n",
      "| \u001b[0m20       \u001b[0m | \u001b[0m-0.1205  \u001b[0m | \u001b[0m4.071    \u001b[0m | \u001b[0m1.067e+03\u001b[0m | \u001b[0m0.0003038\u001b[0m |\n",
      "| \u001b[95m21       \u001b[0m | \u001b[95m-0.1202  \u001b[0m | \u001b[95m9.932    \u001b[0m | \u001b[95m2.895e+03\u001b[0m | \u001b[95m0.0007341\u001b[0m |\n",
      "| \u001b[0m22       \u001b[0m | \u001b[0m-0.1205  \u001b[0m | \u001b[0m4.338    \u001b[0m | \u001b[0m2.989e+03\u001b[0m | \u001b[0m0.0007415\u001b[0m |\n",
      "| \u001b[0m23       \u001b[0m | \u001b[0m-0.1203  \u001b[0m | \u001b[0m15.5     \u001b[0m | \u001b[0m2.985e+03\u001b[0m | \u001b[0m0.0001127\u001b[0m |\n",
      "| \u001b[0m24       \u001b[0m | \u001b[0m-0.1203  \u001b[0m | \u001b[0m15.8     \u001b[0m | \u001b[0m2.976e+03\u001b[0m | \u001b[0m0.0003737\u001b[0m |\n",
      "=============================================================\n",
      "It takes 0.0063206235567728674 minutes\n"
     ]
    }
   ],
   "source": [
    "def rid_cl_bo(alpha, max_iter, tol):\n",
    "    params_rid = {}\n",
    "    # sol = ['auto', 'svd', 'cholesky', 'lsqr', 'sparse_cg', 'sag', 'saga']\n",
    "    params_rid['alpha'] = round(alpha)\n",
    "    params_rid['max_iter'] = round(max_iter)\n",
    "    params_rid['tol'] = tol\n",
    "    \n",
    "    # params_rid['solver'] = sol[round(solver)]\n",
    "    \n",
    "    rid = Ridge(**params_rid)\n",
    "    rid.fit(X_train, y_train)\n",
    "\n",
    "    score = -rmse(y_valid, rid.predict(X_valid))\n",
    "    return score\n",
    "\n",
    "# Run Bayesian Optimization\n",
    "start = time.time()\n",
    "params_rid ={\n",
    "    'alpha':(1, 25),\n",
    "    'max_iter':(1000, 3000),\n",
    "    'tol':(0.0001, 0.001),\n",
    "    # 'solver': (0, 6),\n",
    "}\n",
    "rid_bo = BayesianOptimization(rid_cl_bo, params_rid, random_state=111)\n",
    "rid_bo.maximize(init_points=20, n_iter=4)\n",
    "print('It takes %s minutes' % ((time.time() - start)/60))"
   ]
  },
  {
   "cell_type": "code",
   "execution_count": 71,
   "metadata": {},
   "outputs": [
    {
     "data": {
      "text/plain": [
       "0.12019752671912572"
      ]
     },
     "execution_count": 71,
     "metadata": {},
     "output_type": "execute_result"
    }
   ],
   "source": [
    "rid = Ridge(alpha = 10, max_iter = 2895, tol= 0.0007341)\n",
    "rid.fit(X_train, y_train)\n",
    "rmse(y_valid, rid.predict(X_valid))"
   ]
  },
  {
   "cell_type": "code",
   "execution_count": 72,
   "metadata": {},
   "outputs": [
    {
     "name": "stdout",
     "output_type": "stream",
     "text": [
      "Error: 0.12682236986758766\n"
     ]
    }
   ],
   "source": [
    "ans = pd.read_csv('../submission/cheat.csv').drop('Id', axis = 1)\n",
    "ans = np.array(ans.values).reshape(1, -1)[0]\n",
    "y_pred = rid.predict(X_test)\n",
    "print(f\"Error: {rmse(np.log1p(ans), y_pred)}\")"
   ]
  }
 ],
 "metadata": {
  "kernelspec": {
   "display_name": "Python 3",
   "language": "python",
   "name": "python3"
  },
  "language_info": {
   "codemirror_mode": {
    "name": "ipython",
    "version": 3
   },
   "file_extension": ".py",
   "mimetype": "text/x-python",
   "name": "python",
   "nbconvert_exporter": "python",
   "pygments_lexer": "ipython3",
   "version": "3.10.10"
  },
  "orig_nbformat": 4
 },
 "nbformat": 4,
 "nbformat_minor": 2
}
