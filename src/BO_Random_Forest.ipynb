{
 "cells": [
  {
   "cell_type": "code",
   "execution_count": 29,
   "metadata": {},
   "outputs": [],
   "source": [
    "import pandas as pd\n",
    "import numpy as np\n",
    "\n",
    "import warnings\n",
    "warnings.filterwarnings('ignore')"
   ]
  },
  {
   "cell_type": "code",
   "execution_count": 30,
   "metadata": {},
   "outputs": [],
   "source": [
    "train_df = pd.read_csv('../preprocessing_data/train.csv')\n",
    "test_df = pd.read_csv('../preprocessing_data/test.csv')\n",
    "X = np.array(train_df.drop(['SalePrice'], axis = 1).values)\n",
    "y = np.array(train_df['SalePrice'].values)\n",
    "X_test = np.array(test_df.values)"
   ]
  },
  {
   "cell_type": "code",
   "execution_count": 31,
   "metadata": {},
   "outputs": [],
   "source": [
    "from bayes_opt import BayesianOptimization\n",
    "from sklearn.ensemble import RandomForestRegressor\n",
    "from sklearn.model_selection import cross_val_score, train_test_split\n",
    "from sklearn.metrics import get_scorer, mean_squared_error\n",
    "import time"
   ]
  },
  {
   "cell_type": "code",
   "execution_count": 32,
   "metadata": {},
   "outputs": [],
   "source": [
    "def rmse(y_true, y_pred):\n",
    "    return np.sqrt(mean_squared_error(y_true, y_pred))\n",
    "X_train, X_valid, y_train, y_valid = train_test_split(X, y, test_size= 0.3, random_state=42)"
   ]
  },
  {
   "cell_type": "code",
   "execution_count": 33,
   "metadata": {},
   "outputs": [
    {
     "name": "stdout",
     "output_type": "stream",
     "text": [
      "|   iter    |  target   | max_depth | min_sa... | min_sa... | n_esti... |\n",
      "-------------------------------------------------------------------------\n",
      "| \u001b[0m1        \u001b[0m | \u001b[0m-0.1448  \u001b[0m | \u001b[0m14.42    \u001b[0m | \u001b[0m8.115    \u001b[0m | \u001b[0m5.219    \u001b[0m | \u001b[0m277.4    \u001b[0m |\n",
      "| \u001b[0m2        \u001b[0m | \u001b[0m-0.1484  \u001b[0m | \u001b[0m16.55    \u001b[0m | \u001b[0m9.685    \u001b[0m | \u001b[0m5.894    \u001b[0m | \u001b[0m249.5    \u001b[0m |\n",
      "| \u001b[0m3        \u001b[0m | \u001b[0m-0.1465  \u001b[0m | \u001b[0m12.05    \u001b[0m | \u001b[0m8.125    \u001b[0m | \u001b[0m19.78    \u001b[0m | \u001b[0m403.8    \u001b[0m |\n",
      "| \u001b[95m4        \u001b[0m | \u001b[95m-0.1425  \u001b[0m | \u001b[95m14.51    \u001b[0m | \u001b[95m5.823    \u001b[0m | \u001b[95m5.684    \u001b[0m | \u001b[95m106.8    \u001b[0m |\n",
      "| \u001b[0m5        \u001b[0m | \u001b[0m-0.1505  \u001b[0m | \u001b[0m10.28    \u001b[0m | \u001b[0m11.97    \u001b[0m | \u001b[0m13.8     \u001b[0m | \u001b[0m338.2    \u001b[0m |\n",
      "| \u001b[0m6        \u001b[0m | \u001b[0m-0.1505  \u001b[0m | \u001b[0m12.16    \u001b[0m | \u001b[0m11.57    \u001b[0m | \u001b[0m5.331    \u001b[0m | \u001b[0m297.2    \u001b[0m |\n",
      "| \u001b[0m7        \u001b[0m | \u001b[0m-0.1452  \u001b[0m | \u001b[0m12.79    \u001b[0m | \u001b[0m8.155    \u001b[0m | \u001b[0m9.111    \u001b[0m | \u001b[0m211.8    \u001b[0m |\n",
      "| \u001b[0m8        \u001b[0m | \u001b[0m-0.1496  \u001b[0m | \u001b[0m19.59    \u001b[0m | \u001b[0m11.06    \u001b[0m | \u001b[0m17.1     \u001b[0m | \u001b[0m169.0    \u001b[0m |\n",
      "| \u001b[0m9        \u001b[0m | \u001b[0m-0.1432  \u001b[0m | \u001b[0m13.39    \u001b[0m | \u001b[0m6.269    \u001b[0m | \u001b[0m15.5     \u001b[0m | \u001b[0m300.5    \u001b[0m |\n",
      "| \u001b[0m10       \u001b[0m | \u001b[0m-0.1493  \u001b[0m | \u001b[0m12.64    \u001b[0m | \u001b[0m10.87    \u001b[0m | \u001b[0m12.52    \u001b[0m | \u001b[0m279.4    \u001b[0m |\n",
      "| \u001b[95m11       \u001b[0m | \u001b[95m-0.1422  \u001b[0m | \u001b[95m15.16    \u001b[0m | \u001b[95m6.085    \u001b[0m | \u001b[95m9.346    \u001b[0m | \u001b[95m400.2    \u001b[0m |\n",
      "| \u001b[0m12       \u001b[0m | \u001b[0m-0.1449  \u001b[0m | \u001b[0m17.06    \u001b[0m | \u001b[0m7.863    \u001b[0m | \u001b[0m5.299    \u001b[0m | \u001b[0m256.1    \u001b[0m |\n",
      "| \u001b[0m13       \u001b[0m | \u001b[0m-0.1484  \u001b[0m | \u001b[0m17.4     \u001b[0m | \u001b[0m10.29    \u001b[0m | \u001b[0m15.58    \u001b[0m | \u001b[0m229.6    \u001b[0m |\n",
      "| \u001b[95m14       \u001b[0m | \u001b[95m-0.1401  \u001b[0m | \u001b[95m16.63    \u001b[0m | \u001b[95m5.14     \u001b[0m | \u001b[95m5.416    \u001b[0m | \u001b[95m263.1    \u001b[0m |\n",
      "| \u001b[0m15       \u001b[0m | \u001b[0m-0.158   \u001b[0m | \u001b[0m16.54    \u001b[0m | \u001b[0m18.08    \u001b[0m | \u001b[0m15.5     \u001b[0m | \u001b[0m446.1    \u001b[0m |\n",
      "| \u001b[0m16       \u001b[0m | \u001b[0m-0.1415  \u001b[0m | \u001b[0m10.69    \u001b[0m | \u001b[0m5.102    \u001b[0m | \u001b[0m12.51    \u001b[0m | \u001b[0m434.9    \u001b[0m |\n",
      "| \u001b[0m17       \u001b[0m | \u001b[0m-0.154   \u001b[0m | \u001b[0m17.99    \u001b[0m | \u001b[0m14.97    \u001b[0m | \u001b[0m14.62    \u001b[0m | \u001b[0m373.7    \u001b[0m |\n",
      "| \u001b[0m18       \u001b[0m | \u001b[0m-0.1429  \u001b[0m | \u001b[0m18.49    \u001b[0m | \u001b[0m5.68     \u001b[0m | \u001b[0m13.73    \u001b[0m | \u001b[0m396.2    \u001b[0m |\n",
      "| \u001b[0m19       \u001b[0m | \u001b[0m-0.1501  \u001b[0m | \u001b[0m16.07    \u001b[0m | \u001b[0m12.08    \u001b[0m | \u001b[0m13.16    \u001b[0m | \u001b[0m127.3    \u001b[0m |\n",
      "| \u001b[0m20       \u001b[0m | \u001b[0m-0.1565  \u001b[0m | \u001b[0m12.9     \u001b[0m | \u001b[0m16.65    \u001b[0m | \u001b[0m14.9     \u001b[0m | \u001b[0m164.5    \u001b[0m |\n",
      "| \u001b[0m21       \u001b[0m | \u001b[0m-0.1506  \u001b[0m | \u001b[0m19.14    \u001b[0m | \u001b[0m11.8     \u001b[0m | \u001b[0m5.558    \u001b[0m | \u001b[0m265.5    \u001b[0m |\n",
      "| \u001b[95m22       \u001b[0m | \u001b[95m-0.1401  \u001b[0m | \u001b[95m12.06    \u001b[0m | \u001b[95m5.0      \u001b[0m | \u001b[95m5.0      \u001b[0m | \u001b[95m261.8    \u001b[0m |\n",
      "| \u001b[0m23       \u001b[0m | \u001b[0m-0.1404  \u001b[0m | \u001b[0m12.8     \u001b[0m | \u001b[0m5.359    \u001b[0m | \u001b[0m11.13    \u001b[0m | \u001b[0m264.8    \u001b[0m |\n",
      "| \u001b[0m24       \u001b[0m | \u001b[0m-0.1405  \u001b[0m | \u001b[0m10.0     \u001b[0m | \u001b[0m5.0      \u001b[0m | \u001b[0m8.692    \u001b[0m | \u001b[0m426.8    \u001b[0m |\n",
      "=========================================================================\n",
      "It takes 1.4197586496671042 minutes\n"
     ]
    }
   ],
   "source": [
    "def rf_cl_bo(n_estimators, max_depth, min_samples_split, min_samples_leaf):\n",
    "    # Chọn parameter\n",
    "    params_rf = {}\n",
    "    params_rf['n_estimators'] = round(n_estimators)\n",
    "    params_rf['max_depth'] = round(max_depth)\n",
    "    params_rf['min_samples_split'] = round(min_samples_split)\n",
    "    params_rf['min_samples_leaf'] = round(min_samples_leaf)\n",
    "    \n",
    "    # Áp dụng models\n",
    "    rf = RandomForestRegressor(random_state= 123, **params_rf)\n",
    "    rf.fit(X_train, y_train)\n",
    "\n",
    "    score = -rmse(y_valid, rf.predict(X_valid))\n",
    "    return score\n",
    "\n",
    "# Run Bayesian Optimization\n",
    "start = time.time()\n",
    "params_rf ={\n",
    "    'n_estimators':(100, 500),\n",
    "    'max_depth':(10, 20),\n",
    "    'min_samples_split':(5, 20),\n",
    "    'min_samples_leaf': (5, 20),\n",
    "}\n",
    "rf_bo = BayesianOptimization(rf_cl_bo, params_rf, random_state=520)\n",
    "rf_bo.maximize(init_points=20, n_iter=4)\n",
    "print('It takes %s minutes' % ((time.time() - start)/60))"
   ]
  },
  {
   "cell_type": "code",
   "execution_count": 36,
   "metadata": {},
   "outputs": [
    {
     "data": {
      "text/html": [
       "<style>#sk-container-id-3 {color: black;background-color: white;}#sk-container-id-3 pre{padding: 0;}#sk-container-id-3 div.sk-toggleable {background-color: white;}#sk-container-id-3 label.sk-toggleable__label {cursor: pointer;display: block;width: 100%;margin-bottom: 0;padding: 0.3em;box-sizing: border-box;text-align: center;}#sk-container-id-3 label.sk-toggleable__label-arrow:before {content: \"▸\";float: left;margin-right: 0.25em;color: #696969;}#sk-container-id-3 label.sk-toggleable__label-arrow:hover:before {color: black;}#sk-container-id-3 div.sk-estimator:hover label.sk-toggleable__label-arrow:before {color: black;}#sk-container-id-3 div.sk-toggleable__content {max-height: 0;max-width: 0;overflow: hidden;text-align: left;background-color: #f0f8ff;}#sk-container-id-3 div.sk-toggleable__content pre {margin: 0.2em;color: black;border-radius: 0.25em;background-color: #f0f8ff;}#sk-container-id-3 input.sk-toggleable__control:checked~div.sk-toggleable__content {max-height: 200px;max-width: 100%;overflow: auto;}#sk-container-id-3 input.sk-toggleable__control:checked~label.sk-toggleable__label-arrow:before {content: \"▾\";}#sk-container-id-3 div.sk-estimator input.sk-toggleable__control:checked~label.sk-toggleable__label {background-color: #d4ebff;}#sk-container-id-3 div.sk-label input.sk-toggleable__control:checked~label.sk-toggleable__label {background-color: #d4ebff;}#sk-container-id-3 input.sk-hidden--visually {border: 0;clip: rect(1px 1px 1px 1px);clip: rect(1px, 1px, 1px, 1px);height: 1px;margin: -1px;overflow: hidden;padding: 0;position: absolute;width: 1px;}#sk-container-id-3 div.sk-estimator {font-family: monospace;background-color: #f0f8ff;border: 1px dotted black;border-radius: 0.25em;box-sizing: border-box;margin-bottom: 0.5em;}#sk-container-id-3 div.sk-estimator:hover {background-color: #d4ebff;}#sk-container-id-3 div.sk-parallel-item::after {content: \"\";width: 100%;border-bottom: 1px solid gray;flex-grow: 1;}#sk-container-id-3 div.sk-label:hover label.sk-toggleable__label {background-color: #d4ebff;}#sk-container-id-3 div.sk-serial::before {content: \"\";position: absolute;border-left: 1px solid gray;box-sizing: border-box;top: 0;bottom: 0;left: 50%;z-index: 0;}#sk-container-id-3 div.sk-serial {display: flex;flex-direction: column;align-items: center;background-color: white;padding-right: 0.2em;padding-left: 0.2em;position: relative;}#sk-container-id-3 div.sk-item {position: relative;z-index: 1;}#sk-container-id-3 div.sk-parallel {display: flex;align-items: stretch;justify-content: center;background-color: white;position: relative;}#sk-container-id-3 div.sk-item::before, #sk-container-id-3 div.sk-parallel-item::before {content: \"\";position: absolute;border-left: 1px solid gray;box-sizing: border-box;top: 0;bottom: 0;left: 50%;z-index: -1;}#sk-container-id-3 div.sk-parallel-item {display: flex;flex-direction: column;z-index: 1;position: relative;background-color: white;}#sk-container-id-3 div.sk-parallel-item:first-child::after {align-self: flex-end;width: 50%;}#sk-container-id-3 div.sk-parallel-item:last-child::after {align-self: flex-start;width: 50%;}#sk-container-id-3 div.sk-parallel-item:only-child::after {width: 0;}#sk-container-id-3 div.sk-dashed-wrapped {border: 1px dashed gray;margin: 0 0.4em 0.5em 0.4em;box-sizing: border-box;padding-bottom: 0.4em;background-color: white;}#sk-container-id-3 div.sk-label label {font-family: monospace;font-weight: bold;display: inline-block;line-height: 1.2em;}#sk-container-id-3 div.sk-label-container {text-align: center;}#sk-container-id-3 div.sk-container {/* jupyter's `normalize.less` sets `[hidden] { display: none; }` but bootstrap.min.css set `[hidden] { display: none !important; }` so we also need the `!important` here to be able to override the default hidden behavior on the sphinx rendered scikit-learn.org. See: https://github.com/scikit-learn/scikit-learn/issues/21755 */display: inline-block !important;position: relative;}#sk-container-id-3 div.sk-text-repr-fallback {display: none;}</style><div id=\"sk-container-id-3\" class=\"sk-top-container\"><div class=\"sk-text-repr-fallback\"><pre>RandomForestRegressor(max_depth=12, min_samples_leaf=5, min_samples_split=5,\n",
       "                      n_estimators=261)</pre><b>In a Jupyter environment, please rerun this cell to show the HTML representation or trust the notebook. <br />On GitHub, the HTML representation is unable to render, please try loading this page with nbviewer.org.</b></div><div class=\"sk-container\" hidden><div class=\"sk-item\"><div class=\"sk-estimator sk-toggleable\"><input class=\"sk-toggleable__control sk-hidden--visually\" id=\"sk-estimator-id-3\" type=\"checkbox\" checked><label for=\"sk-estimator-id-3\" class=\"sk-toggleable__label sk-toggleable__label-arrow\">RandomForestRegressor</label><div class=\"sk-toggleable__content\"><pre>RandomForestRegressor(max_depth=12, min_samples_leaf=5, min_samples_split=5,\n",
       "                      n_estimators=261)</pre></div></div></div></div></div>"
      ],
      "text/plain": [
       "RandomForestRegressor(max_depth=12, min_samples_leaf=5, min_samples_split=5,\n",
       "                      n_estimators=261)"
      ]
     },
     "execution_count": 36,
     "metadata": {},
     "output_type": "execute_result"
    }
   ],
   "source": [
    "rf = RandomForestRegressor(max_depth= 12,\n",
    "                           min_samples_leaf= 5,\n",
    "                           min_samples_split= 5,\n",
    "                           n_estimators= 261)\n",
    "rf.fit(X_train, y_train)"
   ]
  },
  {
   "cell_type": "code",
   "execution_count": 37,
   "metadata": {},
   "outputs": [
    {
     "name": "stdout",
     "output_type": "stream",
     "text": [
      "Error: 0.15318321361241516\n"
     ]
    }
   ],
   "source": [
    "ans = pd.read_csv('../submission/cheat.csv').drop('Id', axis = 1)\n",
    "ans = np.array(ans.values).reshape(1, -1)[0]\n",
    "y_pred = rf.predict(X_test)\n",
    "print(f\"Error: {rmse(np.log1p(ans), y_pred)}\")"
   ]
  }
 ],
 "metadata": {
  "kernelspec": {
   "display_name": "Python 3",
   "language": "python",
   "name": "python3"
  },
  "language_info": {
   "codemirror_mode": {
    "name": "ipython",
    "version": 3
   },
   "file_extension": ".py",
   "mimetype": "text/x-python",
   "name": "python",
   "nbconvert_exporter": "python",
   "pygments_lexer": "ipython3",
   "version": "3.10.10"
  },
  "orig_nbformat": 4
 },
 "nbformat": 4,
 "nbformat_minor": 2
}
