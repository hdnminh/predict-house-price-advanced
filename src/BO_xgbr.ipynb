{
 "cells": [
  {
   "cell_type": "code",
   "execution_count": 2,
   "metadata": {},
   "outputs": [],
   "source": [
    "import pandas as pd\n",
    "import numpy as np\n",
    "\n",
    "import warnings\n",
    "warnings.filterwarnings('ignore')"
   ]
  },
  {
   "cell_type": "code",
   "execution_count": 3,
   "metadata": {},
   "outputs": [],
   "source": [
    "train_df = pd.read_csv('../preprocessing_data/train.csv')\n",
    "test_df = pd.read_csv('../preprocessing_data/test.csv')\n",
    "X = np.array(train_df.drop(['SalePrice'], axis = 1).values)\n",
    "y = np.array(train_df['SalePrice'].values)\n",
    "X_test = np.array(test_df.values)"
   ]
  },
  {
   "cell_type": "code",
   "execution_count": 4,
   "metadata": {},
   "outputs": [],
   "source": [
    "from bayes_opt import BayesianOptimization\n",
    "import xgboost as xgb\n",
    "from sklearn.model_selection import cross_val_score, train_test_split\n",
    "from sklearn.metrics import get_scorer, mean_squared_error\n",
    "import time"
   ]
  },
  {
   "cell_type": "code",
   "execution_count": 5,
   "metadata": {},
   "outputs": [],
   "source": [
    "def rmse(y_true, y_pred):\n",
    "    return np.sqrt(mean_squared_error(y_true, y_pred))"
   ]
  },
  {
   "cell_type": "code",
   "execution_count": 6,
   "metadata": {},
   "outputs": [],
   "source": [
    "X_train, X_valid, y_train, y_valid = train_test_split(X, y, test_size= 0.3, random_state=42)"
   ]
  },
  {
   "cell_type": "code",
   "execution_count": 7,
   "metadata": {},
   "outputs": [
    {
     "name": "stdout",
     "output_type": "stream",
     "text": [
      "|   iter    |  target   | colsam... |   gamma   | learni... | max_depth | min_ch... | n_esti... | reg_alpha | reg_la... |   seed    | subsample |\n",
      "-------------------------------------------------------------------------------------------------------------------------------------------------\n",
      "| \u001b[0m1        \u001b[0m | \u001b[0m-0.1216  \u001b[0m | \u001b[0m0.8061   \u001b[0m | \u001b[0m0.01691  \u001b[0m | \u001b[0m0.004925 \u001b[0m | \u001b[0m8.846    \u001b[0m | \u001b[0m1.148    \u001b[0m | \u001b[0m6.224e+03\u001b[0m | \u001b[0m0.002248 \u001b[0m | \u001b[0m0.2101   \u001b[0m | \u001b[0m42.39    \u001b[0m | \u001b[0m0.1688   \u001b[0m |\n",
      "| \u001b[0m2        \u001b[0m | \u001b[0m-0.1231  \u001b[0m | \u001b[0m0.9954   \u001b[0m | \u001b[0m0.02377  \u001b[0m | \u001b[0m0.001731 \u001b[0m | \u001b[0m8.348    \u001b[0m | \u001b[0m1.311    \u001b[0m | \u001b[0m6.411e+03\u001b[0m | \u001b[0m0.04662  \u001b[0m | \u001b[0m0.05918  \u001b[0m | \u001b[0m40.74    \u001b[0m | \u001b[0m0.4504   \u001b[0m |\n",
      "| \u001b[0m3        \u001b[0m | \u001b[0m-0.1313  \u001b[0m | \u001b[0m0.897    \u001b[0m | \u001b[0m0.08406  \u001b[0m | \u001b[0m0.008337 \u001b[0m | \u001b[0m9.955    \u001b[0m | \u001b[0m1.289    \u001b[0m | \u001b[0m7.221e+03\u001b[0m | \u001b[0m0.04213  \u001b[0m | \u001b[0m0.01372  \u001b[0m | \u001b[0m44.54    \u001b[0m | \u001b[0m0.05266  \u001b[0m |\n",
      "| \u001b[0m4        \u001b[0m | \u001b[0m-0.1231  \u001b[0m | \u001b[0m0.9086   \u001b[0m | \u001b[0m0.06977  \u001b[0m | \u001b[0m0.006088 \u001b[0m | \u001b[0m6.371    \u001b[0m | \u001b[0m1.499    \u001b[0m | \u001b[0m6.207e+03\u001b[0m | \u001b[0m0.06154  \u001b[0m | \u001b[0m0.2425   \u001b[0m | \u001b[0m44.05    \u001b[0m | \u001b[0m0.3639   \u001b[0m |\n",
      "| \u001b[95m5        \u001b[0m | \u001b[95m-0.1216  \u001b[0m | \u001b[95m0.6614   \u001b[0m | \u001b[95m0.04005  \u001b[0m | \u001b[95m0.003871 \u001b[0m | \u001b[95m9.736    \u001b[0m | \u001b[95m1.459    \u001b[0m | \u001b[95m7.221e+03\u001b[0m | \u001b[95m0.003408 \u001b[0m | \u001b[95m0.4717   \u001b[0m | \u001b[95m49.5     \u001b[0m | \u001b[95m0.4033   \u001b[0m |\n",
      "| \u001b[0m6        \u001b[0m | \u001b[0m-0.1252  \u001b[0m | \u001b[0m0.7406   \u001b[0m | \u001b[0m0.09668  \u001b[0m | \u001b[0m0.004753 \u001b[0m | \u001b[0m6.594    \u001b[0m | \u001b[0m1.008    \u001b[0m | \u001b[0m6.057e+03\u001b[0m | \u001b[0m0.005309 \u001b[0m | \u001b[0m0.06398  \u001b[0m | \u001b[0m40.33    \u001b[0m | \u001b[0m0.1132   \u001b[0m |\n",
      "| \u001b[95m7        \u001b[0m | \u001b[95m-0.1206  \u001b[0m | \u001b[95m0.772    \u001b[0m | \u001b[95m0.01786  \u001b[0m | \u001b[95m0.002614 \u001b[0m | \u001b[95m5.748    \u001b[0m | \u001b[95m1.342    \u001b[0m | \u001b[95m6.704e+03\u001b[0m | \u001b[95m0.07682  \u001b[0m | \u001b[95m0.3344   \u001b[0m | \u001b[95m44.41    \u001b[0m | \u001b[95m0.2976   \u001b[0m |\n",
      "| \u001b[0m8        \u001b[0m | \u001b[0m-0.1237  \u001b[0m | \u001b[0m0.7308   \u001b[0m | \u001b[0m0.09633  \u001b[0m | \u001b[0m0.00233  \u001b[0m | \u001b[0m9.534    \u001b[0m | \u001b[0m1.249    \u001b[0m | \u001b[0m6.889e+03\u001b[0m | \u001b[0m0.06847  \u001b[0m | \u001b[0m0.08873  \u001b[0m | \u001b[0m48.65    \u001b[0m | \u001b[0m0.241    \u001b[0m |\n",
      "| \u001b[0m9        \u001b[0m | \u001b[0m-0.1213  \u001b[0m | \u001b[0m0.5347   \u001b[0m | \u001b[0m0.03647  \u001b[0m | \u001b[0m0.004254 \u001b[0m | \u001b[0m7.36     \u001b[0m | \u001b[0m1.09     \u001b[0m | \u001b[0m6.263e+03\u001b[0m | \u001b[0m0.09491  \u001b[0m | \u001b[0m0.3278   \u001b[0m | \u001b[0m41.35    \u001b[0m | \u001b[0m0.4639   \u001b[0m |\n",
      "| \u001b[0m10       \u001b[0m | \u001b[0m-0.1227  \u001b[0m | \u001b[0m0.9209   \u001b[0m | \u001b[0m0.005278 \u001b[0m | \u001b[0m0.002833 \u001b[0m | \u001b[0m9.363    \u001b[0m | \u001b[0m1.337    \u001b[0m | \u001b[0m6.446e+03\u001b[0m | \u001b[0m0.07344  \u001b[0m | \u001b[0m0.3092   \u001b[0m | \u001b[0m42.1     \u001b[0m | \u001b[0m0.401    \u001b[0m |\n",
      "| \u001b[95m11       \u001b[0m | \u001b[95m-0.1205  \u001b[0m | \u001b[95m0.5296   \u001b[0m | \u001b[95m0.03082  \u001b[0m | \u001b[95m0.002866 \u001b[0m | \u001b[95m9.861    \u001b[0m | \u001b[95m1.455    \u001b[0m | \u001b[95m7.015e+03\u001b[0m | \u001b[95m0.01152  \u001b[0m | \u001b[95m0.479    \u001b[0m | \u001b[95m40.92    \u001b[0m | \u001b[95m0.3149   \u001b[0m |\n",
      "| \u001b[0m12       \u001b[0m | \u001b[0m-0.1217  \u001b[0m | \u001b[0m0.9515   \u001b[0m | \u001b[0m0.03398  \u001b[0m | \u001b[0m0.006875 \u001b[0m | \u001b[0m9.626    \u001b[0m | \u001b[0m1.187    \u001b[0m | \u001b[0m7.157e+03\u001b[0m | \u001b[0m0.08962  \u001b[0m | \u001b[0m0.3101   \u001b[0m | \u001b[0m41.51    \u001b[0m | \u001b[0m0.1875   \u001b[0m |\n",
      "| \u001b[0m13       \u001b[0m | \u001b[0m-0.1248  \u001b[0m | \u001b[0m0.8179   \u001b[0m | \u001b[0m0.04591  \u001b[0m | \u001b[0m0.00579  \u001b[0m | \u001b[0m6.761    \u001b[0m | \u001b[0m1.33     \u001b[0m | \u001b[0m6.715e+03\u001b[0m | \u001b[0m0.04546  \u001b[0m | \u001b[0m0.0624   \u001b[0m | \u001b[0m44.12    \u001b[0m | \u001b[0m0.1365   \u001b[0m |\n",
      "| \u001b[0m14       \u001b[0m | \u001b[0m-0.1246  \u001b[0m | \u001b[0m0.6734   \u001b[0m | \u001b[0m0.09744  \u001b[0m | \u001b[0m0.00294  \u001b[0m | \u001b[0m8.414    \u001b[0m | \u001b[0m1.016    \u001b[0m | \u001b[0m7.253e+03\u001b[0m | \u001b[0m0.07017  \u001b[0m | \u001b[0m0.483    \u001b[0m | \u001b[0m45.92    \u001b[0m | \u001b[0m0.1087   \u001b[0m |\n",
      "| \u001b[0m15       \u001b[0m | \u001b[0m-0.1248  \u001b[0m | \u001b[0m0.8596   \u001b[0m | \u001b[0m0.003087 \u001b[0m | \u001b[0m0.004768 \u001b[0m | \u001b[0m6.406    \u001b[0m | \u001b[0m1.053    \u001b[0m | \u001b[0m6.64e+03 \u001b[0m | \u001b[0m0.08406  \u001b[0m | \u001b[0m0.05521  \u001b[0m | \u001b[0m49.87    \u001b[0m | \u001b[0m0.1166   \u001b[0m |\n",
      "| \u001b[0m16       \u001b[0m | \u001b[0m-0.1248  \u001b[0m | \u001b[0m0.8607   \u001b[0m | \u001b[0m0.06609  \u001b[0m | \u001b[0m0.0017   \u001b[0m | \u001b[0m8.486    \u001b[0m | \u001b[0m1.133    \u001b[0m | \u001b[0m7.353e+03\u001b[0m | \u001b[0m0.08183  \u001b[0m | \u001b[0m0.1996   \u001b[0m | \u001b[0m48.2     \u001b[0m | \u001b[0m0.09891  \u001b[0m |\n",
      "| \u001b[0m17       \u001b[0m | \u001b[0m-0.1219  \u001b[0m | \u001b[0m0.7613   \u001b[0m | \u001b[0m0.04125  \u001b[0m | \u001b[0m0.009333 \u001b[0m | \u001b[0m9.127    \u001b[0m | \u001b[0m1.251    \u001b[0m | \u001b[0m6.175e+03\u001b[0m | \u001b[0m0.001159 \u001b[0m | \u001b[0m0.4566   \u001b[0m | \u001b[0m45.12    \u001b[0m | \u001b[0m0.4215   \u001b[0m |\n",
      "| \u001b[0m18       \u001b[0m | \u001b[0m-0.1233  \u001b[0m | \u001b[0m0.5474   \u001b[0m | \u001b[0m0.08034  \u001b[0m | \u001b[0m0.00156  \u001b[0m | \u001b[0m8.177    \u001b[0m | \u001b[0m1.484    \u001b[0m | \u001b[0m6.596e+03\u001b[0m | \u001b[0m0.06596  \u001b[0m | \u001b[0m0.1074   \u001b[0m | \u001b[0m48.9     \u001b[0m | \u001b[0m0.4933   \u001b[0m |\n",
      "| \u001b[0m19       \u001b[0m | \u001b[0m-0.1224  \u001b[0m | \u001b[0m0.8693   \u001b[0m | \u001b[0m0.06415  \u001b[0m | \u001b[0m0.003269 \u001b[0m | \u001b[0m7.379    \u001b[0m | \u001b[0m1.134    \u001b[0m | \u001b[0m7.302e+03\u001b[0m | \u001b[0m0.02669  \u001b[0m | \u001b[0m0.4865   \u001b[0m | \u001b[0m42.14    \u001b[0m | \u001b[0m0.1489   \u001b[0m |\n",
      "| \u001b[0m20       \u001b[0m | \u001b[0m-0.1231  \u001b[0m | \u001b[0m0.8684   \u001b[0m | \u001b[0m0.001289 \u001b[0m | \u001b[0m0.001272 \u001b[0m | \u001b[0m8.669    \u001b[0m | \u001b[0m1.249    \u001b[0m | \u001b[0m6.327e+03\u001b[0m | \u001b[0m0.000893 \u001b[0m | \u001b[0m0.4254   \u001b[0m | \u001b[0m45.36    \u001b[0m | \u001b[0m0.3618   \u001b[0m |\n",
      "| \u001b[0m21       \u001b[0m | \u001b[0m-0.1235  \u001b[0m | \u001b[0m0.6572   \u001b[0m | \u001b[0m0.06239  \u001b[0m | \u001b[0m0.00157  \u001b[0m | \u001b[0m6.14     \u001b[0m | \u001b[0m1.408    \u001b[0m | \u001b[0m6.919e+03\u001b[0m | \u001b[0m0.07254  \u001b[0m | \u001b[0m0.3338   \u001b[0m | \u001b[0m48.87    \u001b[0m | \u001b[0m0.4091   \u001b[0m |\n",
      "| \u001b[0m22       \u001b[0m | \u001b[0m-0.1211  \u001b[0m | \u001b[0m0.6001   \u001b[0m | \u001b[0m0.0226   \u001b[0m | \u001b[0m0.002705 \u001b[0m | \u001b[0m6.332    \u001b[0m | \u001b[0m1.154    \u001b[0m | \u001b[0m7.032e+03\u001b[0m | \u001b[0m0.006153 \u001b[0m | \u001b[0m0.1046   \u001b[0m | \u001b[0m43.62    \u001b[0m | \u001b[0m0.1301   \u001b[0m |\n",
      "| \u001b[0m23       \u001b[0m | \u001b[0m-0.1239  \u001b[0m | \u001b[0m0.7913   \u001b[0m | \u001b[0m0.09056  \u001b[0m | \u001b[0m0.003457 \u001b[0m | \u001b[0m8.248    \u001b[0m | \u001b[0m1.113    \u001b[0m | \u001b[0m6.391e+03\u001b[0m | \u001b[0m0.08142  \u001b[0m | \u001b[0m0.1519   \u001b[0m | \u001b[0m45.21    \u001b[0m | \u001b[0m0.2536   \u001b[0m |\n",
      "| \u001b[0m24       \u001b[0m | \u001b[0m-0.1226  \u001b[0m | \u001b[0m0.8996   \u001b[0m | \u001b[0m0.0208   \u001b[0m | \u001b[0m0.003532 \u001b[0m | \u001b[0m5.306    \u001b[0m | \u001b[0m1.47     \u001b[0m | \u001b[0m6.268e+03\u001b[0m | \u001b[0m0.07208  \u001b[0m | \u001b[0m0.3279   \u001b[0m | \u001b[0m48.98    \u001b[0m | \u001b[0m0.3566   \u001b[0m |\n",
      "=================================================================================================================================================\n",
      "It takes 6.152589825789134 minutes\n"
     ]
    }
   ],
   "source": [
    "def xgbr_cl_bo(colsample_bytree, gamma, learning_rate, max_depth, min_child_weight, n_estimators, reg_alpha,\n",
    "                reg_lambda, subsample, seed):\n",
    "    params_lasso = {}\n",
    "    params_lasso['colsample_bytree'] = colsample_bytree\n",
    "    params_lasso['gamma'] = gamma\n",
    "    params_lasso['learning_rate'] = learning_rate\n",
    "    params_lasso['max_depth'] = round(max_depth)\n",
    "    params_lasso['min_child_weight'] = min_child_weight\n",
    "    params_lasso['n_estimators'] = round(n_estimators)\n",
    "    params_lasso['reg_alpha'] = reg_alpha\n",
    "    params_lasso['reg_lambda'] = reg_lambda\n",
    "    params_lasso['subsample'] = subsample\n",
    "    params_lasso['seed'] = round(seed)\n",
    "    \n",
    "    xgbr = xgb.XGBRegressor(**params_lasso)\n",
    "    xgbr.fit(X_train, y_train)\n",
    "\n",
    "    score = -rmse(y_valid, xgbr.predict(X_valid))\n",
    "    return score\n",
    "\n",
    "# Run Bayesian Optimization\n",
    "start = time.time()\n",
    "params_xgbr ={\n",
    "    'colsample_bytree': (0.5, 1), \n",
    "    'gamma': (0, 0.1), \n",
    "    'learning_rate': (0.001, 0.01), \n",
    "    'max_depth': (5, 10), \n",
    "    'min_child_weight': (1, 1.5), \n",
    "    'n_estimators': (6000, 7500), \n",
    "    'reg_alpha': (0, 0.1),\n",
    "    'reg_lambda': (0, 0.5), \n",
    "    'subsample': (0, 0.5), \n",
    "    'seed': (40, 50)\n",
    "}\n",
    "xgbr_bo = BayesianOptimization(xgbr_cl_bo, params_xgbr, random_state=111)\n",
    "xgbr_bo.maximize(init_points=20, n_iter=4)\n",
    "print('It takes %s minutes' % ((time.time() - start)/60))"
   ]
  },
  {
   "cell_type": "code",
   "execution_count": 8,
   "metadata": {},
   "outputs": [
    {
     "data": {
      "text/plain": [
       "0.1229453376905725"
      ]
     },
     "execution_count": 8,
     "metadata": {},
     "output_type": "execute_result"
    }
   ],
   "source": [
    "xgbr = xgb.XGBRegressor(\n",
    "                colsample_bytree=0.9954,\n",
    "                gamma=0.02377,\n",
    "                learning_rate=0.001731,\n",
    "                max_depth=8,\n",
    "                min_child_weight=1.311,\n",
    "                n_estimators=6411,                                                                  \n",
    "                reg_alpha=0.04662,\n",
    "                reg_lambda=0.05918,\n",
    "                subsample=0.4504,\n",
    "                seed=40,)\n",
    "xgbr.fit(X_train, y_train)\n",
    "rmse(y_valid, xgbr.predict(X_valid))"
   ]
  },
  {
   "cell_type": "code",
   "execution_count": 9,
   "metadata": {},
   "outputs": [
    {
     "name": "stdout",
     "output_type": "stream",
     "text": [
      "Error: 0.12945373199632956\n"
     ]
    }
   ],
   "source": [
    "ans = pd.read_csv('../submission/cheat.csv').drop('Id', axis = 1)\n",
    "ans = np.array(ans.values).reshape(1, -1)[0]\n",
    "y_pred = xgbr.predict(X_test)\n",
    "print(f\"Error: {rmse(np.log1p(ans), y_pred)}\")"
   ]
  }
 ],
 "metadata": {
  "kernelspec": {
   "display_name": "Python 3",
   "language": "python",
   "name": "python3"
  },
  "language_info": {
   "codemirror_mode": {
    "name": "ipython",
    "version": 3
   },
   "file_extension": ".py",
   "mimetype": "text/x-python",
   "name": "python",
   "nbconvert_exporter": "python",
   "pygments_lexer": "ipython3",
   "version": "3.10.10"
  },
  "orig_nbformat": 4
 },
 "nbformat": 4,
 "nbformat_minor": 2
}
