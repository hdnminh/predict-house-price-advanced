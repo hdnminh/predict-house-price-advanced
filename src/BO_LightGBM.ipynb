{
 "cells": [
  {
   "cell_type": "code",
   "execution_count": 1,
   "metadata": {},
   "outputs": [],
   "source": [
    "import pandas as pd\n",
    "import numpy as np\n",
    "\n",
    "import warnings\n",
    "warnings.filterwarnings('ignore')"
   ]
  },
  {
   "cell_type": "code",
   "execution_count": 2,
   "metadata": {},
   "outputs": [],
   "source": [
    "train_df = pd.read_csv('../preprocessing_data/train.csv')\n",
    "test_df = pd.read_csv('../preprocessing_data/test.csv')\n",
    "X = np.array(train_df.drop(['SalePrice'], axis = 1).values)\n",
    "y = np.array(train_df['SalePrice'].values)\n",
    "X_test = np.array(test_df.values)"
   ]
  },
  {
   "cell_type": "code",
   "execution_count": 3,
   "metadata": {},
   "outputs": [],
   "source": [
    "from bayes_opt import BayesianOptimization\n",
    "import lightgbm as lgb\n",
    "from sklearn.model_selection import cross_val_score, train_test_split\n",
    "from sklearn.metrics import get_scorer, mean_squared_error\n",
    "import time"
   ]
  },
  {
   "cell_type": "code",
   "execution_count": 4,
   "metadata": {},
   "outputs": [],
   "source": [
    "def rmse(y_true, y_pred):\n",
    "    return np.sqrt(mean_squared_error(y_true, y_pred))"
   ]
  },
  {
   "cell_type": "code",
   "execution_count": 5,
   "metadata": {},
   "outputs": [],
   "source": [
    "X_train, X_valid, y_train, y_valid = train_test_split(X, y, test_size= 0.2, random_state=42)"
   ]
  },
  {
   "cell_type": "code",
   "execution_count": 6,
   "metadata": {},
   "outputs": [
    {
     "name": "stdout",
     "output_type": "stream",
     "text": [
      "|   iter    |  target   | baggin... | featur... | learni... |  max_bin  | n_esti... | num_le... |\n",
      "-------------------------------------------------------------------------------------------------\n",
      "| \u001b[0m1        \u001b[0m | \u001b[0m-0.1328  \u001b[0m | \u001b[0m6.837    \u001b[0m | \u001b[0m16.69    \u001b[0m | \u001b[0m0.009285 \u001b[0m | \u001b[0m65.39    \u001b[0m | \u001b[0m1.059e+03\u001b[0m | \u001b[0m8.298    \u001b[0m |\n",
      "| \u001b[0m2        \u001b[0m | \u001b[0m-0.1348  \u001b[0m | \u001b[0m5.067    \u001b[0m | \u001b[0m19.2     \u001b[0m | \u001b[0m0.005535 \u001b[0m | \u001b[0m56.75    \u001b[0m | \u001b[0m1.198e+03\u001b[0m | \u001b[0m8.475    \u001b[0m |\n",
      "| \u001b[95m3        \u001b[0m | \u001b[95m-0.1309  \u001b[0m | \u001b[95m5.244    \u001b[0m | \u001b[95m21.7     \u001b[0m | \u001b[95m0.0128   \u001b[0m | \u001b[95m55.49    \u001b[0m | \u001b[95m1.093e+03\u001b[0m | \u001b[95m8.237    \u001b[0m |\n",
      "| \u001b[0m4        \u001b[0m | \u001b[0m-0.1337  \u001b[0m | \u001b[0m5.222    \u001b[0m | \u001b[0m24.01    \u001b[0m | \u001b[0m0.01609  \u001b[0m | \u001b[0m66.81    \u001b[0m | \u001b[0m1.163e+03\u001b[0m | \u001b[0m9.982    \u001b[0m |\n",
      "| \u001b[95m5        \u001b[0m | \u001b[95m-0.1306  \u001b[0m | \u001b[95m6.732    \u001b[0m | \u001b[95m23.14    \u001b[0m | \u001b[95m0.009005 \u001b[0m | \u001b[95m50.55    \u001b[0m | \u001b[95m1.091e+03\u001b[0m | \u001b[95m8.211    \u001b[0m |\n",
      "| \u001b[95m6        \u001b[0m | \u001b[95m-0.1305  \u001b[0m | \u001b[95m7.452    \u001b[0m | \u001b[95m21.98    \u001b[0m | \u001b[95m0.01174  \u001b[0m | \u001b[95m55.48    \u001b[0m | \u001b[95m1.2e+03  \u001b[0m | \u001b[95m8.276    \u001b[0m |\n",
      "| \u001b[0m7        \u001b[0m | \u001b[0m-0.1331  \u001b[0m | \u001b[0m6.846    \u001b[0m | \u001b[0m19.85    \u001b[0m | \u001b[0m0.008696 \u001b[0m | \u001b[0m64.56    \u001b[0m | \u001b[0m1.065e+03\u001b[0m | \u001b[0m8.801    \u001b[0m |\n",
      "| \u001b[0m8        \u001b[0m | \u001b[0m-0.1333  \u001b[0m | \u001b[0m5.957    \u001b[0m | \u001b[0m24.47    \u001b[0m | \u001b[0m0.01846  \u001b[0m | \u001b[0m66.28    \u001b[0m | \u001b[0m1.007e+03\u001b[0m | \u001b[0m9.887    \u001b[0m |\n",
      "| \u001b[0m9        \u001b[0m | \u001b[0m-0.1335  \u001b[0m | \u001b[0m7.851    \u001b[0m | \u001b[0m23.07    \u001b[0m | \u001b[0m0.01014  \u001b[0m | \u001b[0m69.34    \u001b[0m | \u001b[0m1.083e+03\u001b[0m | \u001b[0m8.638    \u001b[0m |\n",
      "| \u001b[0m10       \u001b[0m | \u001b[0m-0.1852  \u001b[0m | \u001b[0m5.049    \u001b[0m | \u001b[0m15.38    \u001b[0m | \u001b[0m0.002009 \u001b[0m | \u001b[0m52.56    \u001b[0m | \u001b[0m1.007e+03\u001b[0m | \u001b[0m8.453    \u001b[0m |\n",
      "| \u001b[0m11       \u001b[0m | \u001b[0m-0.138   \u001b[0m | \u001b[0m6.632    \u001b[0m | \u001b[0m16.79    \u001b[0m | \u001b[0m0.004408 \u001b[0m | \u001b[0m52.99    \u001b[0m | \u001b[0m1.137e+03\u001b[0m | \u001b[0m8.938    \u001b[0m |\n",
      "| \u001b[0m12       \u001b[0m | \u001b[0m-0.1319  \u001b[0m | \u001b[0m7.305    \u001b[0m | \u001b[0m21.69    \u001b[0m | \u001b[0m0.009384 \u001b[0m | \u001b[0m61.9     \u001b[0m | \u001b[0m1.092e+03\u001b[0m | \u001b[0m9.927    \u001b[0m |\n",
      "| \u001b[0m13       \u001b[0m | \u001b[0m-0.131   \u001b[0m | \u001b[0m5.443    \u001b[0m | \u001b[0m24.07    \u001b[0m | \u001b[0m0.01046  \u001b[0m | \u001b[0m61.85    \u001b[0m | \u001b[0m1.137e+03\u001b[0m | \u001b[0m8.355    \u001b[0m |\n",
      "| \u001b[0m14       \u001b[0m | \u001b[0m-0.1674  \u001b[0m | \u001b[0m7.594    \u001b[0m | \u001b[0m19.82    \u001b[0m | \u001b[0m0.002317 \u001b[0m | \u001b[0m57.29    \u001b[0m | \u001b[0m1.072e+03\u001b[0m | \u001b[0m8.944    \u001b[0m |\n",
      "| \u001b[0m15       \u001b[0m | \u001b[0m-0.1352  \u001b[0m | \u001b[0m5.538    \u001b[0m | \u001b[0m16.75    \u001b[0m | \u001b[0m0.01903  \u001b[0m | \u001b[0m63.11    \u001b[0m | \u001b[0m1.027e+03\u001b[0m | \u001b[0m9.856    \u001b[0m |\n",
      "| \u001b[0m16       \u001b[0m | \u001b[0m-0.1385  \u001b[0m | \u001b[0m7.525    \u001b[0m | \u001b[0m15.53    \u001b[0m | \u001b[0m0.00487  \u001b[0m | \u001b[0m67.45    \u001b[0m | \u001b[0m1.135e+03\u001b[0m | \u001b[0m8.595    \u001b[0m |\n",
      "| \u001b[0m17       \u001b[0m | \u001b[0m-0.1403  \u001b[0m | \u001b[0m7.203    \u001b[0m | \u001b[0m21.18    \u001b[0m | \u001b[0m0.004999 \u001b[0m | \u001b[0m66.04    \u001b[0m | \u001b[0m1.012e+03\u001b[0m | \u001b[0m8.616    \u001b[0m |\n",
      "| \u001b[0m18       \u001b[0m | \u001b[0m-0.1341  \u001b[0m | \u001b[0m5.622    \u001b[0m | \u001b[0m24.72    \u001b[0m | \u001b[0m0.01828  \u001b[0m | \u001b[0m63.53    \u001b[0m | \u001b[0m1.023e+03\u001b[0m | \u001b[0m9.916    \u001b[0m |\n",
      "| \u001b[0m19       \u001b[0m | \u001b[0m-0.1339  \u001b[0m | \u001b[0m5.275    \u001b[0m | \u001b[0m21.3     \u001b[0m | \u001b[0m0.01816  \u001b[0m | \u001b[0m56.8     \u001b[0m | \u001b[0m1.131e+03\u001b[0m | \u001b[0m9.85     \u001b[0m |\n",
      "| \u001b[0m20       \u001b[0m | \u001b[0m-0.1324  \u001b[0m | \u001b[0m6.122    \u001b[0m | \u001b[0m22.71    \u001b[0m | \u001b[0m0.01803  \u001b[0m | \u001b[0m62.4     \u001b[0m | \u001b[0m1.03e+03 \u001b[0m | \u001b[0m8.75     \u001b[0m |\n",
      "| \u001b[0m21       \u001b[0m | \u001b[0m-0.1322  \u001b[0m | \u001b[0m7.894    \u001b[0m | \u001b[0m24.56    \u001b[0m | \u001b[0m0.01234  \u001b[0m | \u001b[0m50.16    \u001b[0m | \u001b[0m1.107e+03\u001b[0m | \u001b[0m9.172    \u001b[0m |\n",
      "| \u001b[0m22       \u001b[0m | \u001b[0m-0.1334  \u001b[0m | \u001b[0m5.0      \u001b[0m | \u001b[0m25.0     \u001b[0m | \u001b[0m0.02     \u001b[0m | \u001b[0m68.08    \u001b[0m | \u001b[0m1.107e+03\u001b[0m | \u001b[0m8.0      \u001b[0m |\n",
      "| \u001b[0m23       \u001b[0m | \u001b[0m-0.1314  \u001b[0m | \u001b[0m7.633    \u001b[0m | \u001b[0m24.93    \u001b[0m | \u001b[0m0.01269  \u001b[0m | \u001b[0m69.59    \u001b[0m | \u001b[0m1.047e+03\u001b[0m | \u001b[0m8.748    \u001b[0m |\n",
      "| \u001b[0m24       \u001b[0m | \u001b[0m-0.1334  \u001b[0m | \u001b[0m8.0      \u001b[0m | \u001b[0m25.0     \u001b[0m | \u001b[0m0.02     \u001b[0m | \u001b[0m50.0     \u001b[0m | \u001b[0m1.184e+03\u001b[0m | \u001b[0m9.204    \u001b[0m |\n",
      "=================================================================================================\n",
      "It takes 0.8853529175122579 minutes\n"
     ]
    }
   ],
   "source": [
    "def rid_cl_bo(num_leaves, learning_rate, n_estimators, max_bin,\n",
    "              feature_fraction_seed, bagging_seed):\n",
    "    params_lgmb = {}\n",
    "    params_lgmb['num_leaves'] = round(num_leaves)\n",
    "    params_lgmb['learning_rate'] = learning_rate\n",
    "    params_lgmb['n_estimators'] = round(n_estimators)\n",
    "    params_lgmb['max_bin'] = round(max_bin)\n",
    "    params_lgmb['feature_fraction_seed'] = round(feature_fraction_seed)\n",
    "    params_lgmb['bagging_seed'] = round(bagging_seed)\n",
    "\n",
    "    lgbm = lgb.LGBMRegressor(objective='regression', **params_lgmb)\n",
    "    lgbm.fit(X_train, y_train)\n",
    "\n",
    "    score = -rmse(y_valid, lgbm.predict(X_valid))\n",
    "    return score\n",
    "\n",
    "# Run Bayesian Optimization\n",
    "start = time.time()\n",
    "params_lgbm ={\n",
    "    'num_leaves': (8, 10), \n",
    "    'learning_rate': (0.001, 0.02), \n",
    "    'n_estimators': (1000, 1200), \n",
    "    'max_bin': (50, 70),\n",
    "    'feature_fraction_seed': (15, 25),\n",
    "    'bagging_seed': (5, 8),\n",
    "}\n",
    "lgbm_bo = BayesianOptimization(rid_cl_bo, params_lgbm, random_state=111)\n",
    "lgbm_bo.maximize(init_points=20, n_iter=4)\n",
    "print('It takes %s minutes' % ((time.time() - start)/60))"
   ]
  },
  {
   "cell_type": "code",
   "execution_count": 7,
   "metadata": {},
   "outputs": [
    {
     "data": {
      "text/plain": [
       "0.13039814718287585"
      ]
     },
     "execution_count": 7,
     "metadata": {},
     "output_type": "execute_result"
    }
   ],
   "source": [
    "lgbm = lgb.LGBMRegressor(objective='regression',num_leaves=8,\n",
    "                        learning_rate= 0.015, n_estimators=1033,\n",
    "                        max_bin = 62, feature_fraction_seed=25, bagging_seed=5)\n",
    "lgbm.fit(X_train, y_train)\n",
    "rmse(y_valid, lgbm.predict(X_valid))"
   ]
  },
  {
   "cell_type": "code",
   "execution_count": 8,
   "metadata": {},
   "outputs": [
    {
     "name": "stdout",
     "output_type": "stream",
     "text": [
      "Error: 0.12960138973508817\n"
     ]
    }
   ],
   "source": [
    "ans = pd.read_csv('../submission/cheat.csv').drop('Id', axis = 1)\n",
    "ans = np.array(ans.values).reshape(1, -1)[0]\n",
    "y_pred = lgbm.predict(X_test)\n",
    "print(f\"Error: {rmse(np.log1p(ans), y_pred)}\")"
   ]
  }
 ],
 "metadata": {
  "kernelspec": {
   "display_name": "Python 3",
   "language": "python",
   "name": "python3"
  },
  "language_info": {
   "codemirror_mode": {
    "name": "ipython",
    "version": 3
   },
   "file_extension": ".py",
   "mimetype": "text/x-python",
   "name": "python",
   "nbconvert_exporter": "python",
   "pygments_lexer": "ipython3",
   "version": "3.10.10"
  },
  "orig_nbformat": 4
 },
 "nbformat": 4,
 "nbformat_minor": 2
}
